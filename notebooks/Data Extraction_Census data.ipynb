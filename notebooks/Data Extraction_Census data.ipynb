{
 "cells": [
  {
   "cell_type": "code",
   "execution_count": 1,
   "metadata": {},
   "outputs": [],
   "source": [
    "#Import packages\n",
    "import pandas as pd\n",
    "\n",
    "#Make API calls with python\n",
    "import requests\n",
    "\n",
    "#This allows us to store results of API call cleanly\n",
    "import json\n",
    "\n",
    "#Construct the API call we will use\n",
    "baseAPI = *** #Please use your own API key and insert you base API here\n",
    "# Please request your own API key here: https://api.census.gov/data/key_signup.html\n",
    "\n",
    "#Call the API and collect the response\n",
    "response = requests.get(baseAPI)\n",
    "\n",
    "# Load the response into a JSON, ignoring the first element which is just field labels\n",
    "formattedResponse = json.loads(response.text)[1:]"
   ]
  },
  {
   "cell_type": "code",
   "execution_count": 2,
   "metadata": {},
   "outputs": [],
   "source": [
    "#Extract data with counties in Georgia: \n",
    "\n",
    "#Construct the API call we will use\n",
    "baseAPI_c = \"https://api.census.gov/data/2019/pep/charagegroups?&get=RACE,POP&for=county:*&in=state:13&key=9607281c84574420ac5767667da736f2514ce197\" \n",
    "\n",
    "#Call the API and collect the response\n",
    "response = requests.get(baseAPI_c)\n",
    "\n",
    "#Load the response into a JSON, ignoring the first element which is just field labels\n",
    "formattedResponse_c = json.loads(response.text)[1:]"
   ]
  },
  {
   "cell_type": "code",
   "execution_count": 3,
   "metadata": {
    "scrolled": true
   },
   "outputs": [
    {
     "name": "stdout",
     "output_type": "stream",
     "text": [
      "     Race Populatioin State County\n",
      "0       0       33610    13    187\n",
      "1       1       31828    13    187\n",
      "2       2         585    13    187\n",
      "3       3         257    13    187\n",
      "4       4         268    13    187\n",
      "...   ...         ...   ...    ...\n",
      "1903    7        9720    13    027\n",
      "1904    8        5573    13    027\n",
      "1905    9         157    13    027\n",
      "1906   10         212    13    027\n",
      "1907   11          53    13    027\n",
      "\n",
      "[1908 rows x 4 columns]\n"
     ]
    }
   ],
   "source": [
    "# Build a dataframe for demographic data in GA\n",
    "df2 = pd.DataFrame(columns=['Race', 'Populatioin','State','County'], data= formattedResponse_c)\n",
    "print(df2)"
   ]
  },
  {
   "cell_type": "code",
   "execution_count": 4,
   "metadata": {
    "scrolled": true
   },
   "outputs": [],
   "source": [
    "# Rename the county names, race names, and state names in the datafram\n",
    "df2['County'] = df2['County'].replace({'001':'Appling', '003':'Atkinson', '005':'Bacon', '007':'Baker', '009':'Baldwin', '011':'Banks', '013':'Barrow', '015':'Bartow', '017':'Ben Hill', '019':'Berrien', '021':'Bibb', '023':'Bleckley', '025':'Brantley', '027':'Brooks', '029':'Bryan', '031':'Bulloch', '033':'Burke', '035':'Butts', '037':'Calhoun', '039':'Camden', '043':'Candler', '045':'Carroll', '047':'Catoosa', '049':'Charlton', '051':'Chatham', '053':'Chattahoochee', '055':'Chattooga', '057':'Cherokee', '059':'Clarke', '061':'Clay', '063':'Clayton', '065':'Clinch', '067':'Cobb', '069':'Coffee', '071':'Colquitt', '073':'Columbia', '075':'Cook', '077':'Coweta', '079':'Crawford', '081':'Crisp', '083':'Dade', '085':'Dawson', '087':'Decatur', '089':'DeKalb', '091':'Dodge', '093':'Dooly', '095':'Dougherty', '097':'Douglas', '099':'Early', '101':'Echols', '103':'Effingham', '105':'Elbert', '107':'Emanuel', '109':'Evans', '111':'Fannin', '113':'Fayette', '115':'Floyd', '117':'Forsyth', '119':'Franklin', '121':'Fulton', '123':'Gilmer', '125':'Glascock', '127':'Glynn', '129':'Gordon', '131':'Grady', '133':'Greene', '135':'Gwinnett', '137':'Habersham', '139':'Hall', '141':'Hancock', '143':'Haralson', '145':'Harris', '147':'Hart', '149':'Heard', '151':'Henry', '153':'Houston', '155':'Irwin', '157':'Jackson', '159':'Jasper', '161':'Jeff Davis', '163':'Jefferson', '165':'Jenkins', '167':'Johnson', '169':'Jones', '171':'Lamar', '173':'Lanier', '175':'Laurens', '177':'Lee', '179':'Liberty', '181':'Lincoln', '183':'Long', '185':'Lowndes', '187':'Lumpkin', '189':'McDuffie', '191':'McIntosh', '193':'Macon', '195':'Madison', '197':'Marion', '199':'Meriwether', '201':'Miller', '205':'Mitchell', '207':'Monroe', '209':'Montgomery', '211':'Morgan', '213':'Murray', '215':'Muscogee', '217':'Newton', '219':'Oconee', '221':'Oglethorpe', '223':'Paulding', '225':'Peach', '227':'Pickens', '229':'Pierce', '231':'Pike', '233':'Polk', '235':'Pulaski', '237':'Putnam', '239':'Quitman', '241':'Rabun', '243':'Randolph', '245':'Richmond', '247':'Rockdale', '249':'Schley', '251':'Screven', '253':'Seminole', '255':'Spalding', '257':'Stephens', '259':'Stewart', '261':'Sumter', '263':'Talbot', '265':'Taliaferro', '267':'Tattnall', '269':'Taylor', '271':'Telfair', '273':'Terrell', '275':'Thomas', '277':'Tift', '279':'Toombs', '281':'Towns', '283':'Treutlen', '285':'Troup', '287':'Turner', '289':'Twiggs', '291':'Union', '293':'Upson', '295':'Walker', '297':'Walton', '299':'Ware', '301':'Warren', '303':'Washington', '305':'Wayne', '307':'Webster', '309':'Wheeler', '311':'White', '313':'Whitfield', '315':'Wilcox', '317':'Wilkes', '319':'Wilkinson', '321':'Worth'})"
   ]
  },
  {
   "cell_type": "code",
   "execution_count": 5,
   "metadata": {},
   "outputs": [],
   "source": [
    "df2['Race'] = df2['Race'].replace({\"11\": \"Native Hawaiian and Other Pacific Islander alone or in combination\",\"10\": \"Asian alone or in combination\",\"9\": \"American Indian and Alaska Native alone or in combination\",\"8\": \"Black alone or in combination\",\n",
    "                                   \"7\": \"White alone or in combination\",\"6\": \"Two or more races\",\"5\": \"Native Hawaiian and Other Pacific Islander alone\",\"4\": \"Asian alone\",\"3\": \"American Indian and Alaska Native alone\",\n",
    "                                   \"2\": \"Black alone\",\"1\": \"White alone\",\"0\": \"All races\"})"
   ]
  },
  {
   "cell_type": "code",
   "execution_count": 6,
   "metadata": {},
   "outputs": [],
   "source": [
    "df2['State'] = df2['State'].replace({'01':'Alabama','02':'Alaska','04':'Arizona','05':'Arkansas','06':'California',\n",
    "                                     '08':'Colorado', '09':'Connecticut', '10':'Delaware', '11':'District of Columbia', \n",
    "                                     '12':'Florida', '13':'Georgia','15':'Hawaii', '16':'Idaho', '17':'Illinois','18':'Indiana',\n",
    "                                     '19':'Iowa','20':'Kansas','21':'Kentucky','22':'Louisiana','23':'Maine','24':'Maryland',\n",
    "                                     '25':'Massachusetts','26':'Michigan','27':'Minnesota','28':'Mississippi','29':'Missouri',\n",
    "                                    '30':'Montana','31':'Nebraska','32':'Nevada','33':'New Hampshire','34':'New Jersey','35':'New Mexico',\n",
    "                                    '36':'New York','37':'North Carolina','38':'North Dakota','39':'Ohio','40':'Oklahoma','41':'Oregon',\n",
    "                                     '42':'Pennsylvania','44':'Rhode Island','45':'South Carolina','46':'south Dakota','47':'Tennessee',\n",
    "                                     '48':'Texas','49':'Utah','50':'Vermont','51':'Virginia','53':'Washington','54':'West Virgina',\n",
    "                                     '55':'Wisconsin','56':'Wyoming','72':'Puerto Rico'})"
   ]
  },
  {
   "cell_type": "code",
   "execution_count": 7,
   "metadata": {
    "scrolled": true
   },
   "outputs": [
    {
     "data": {
      "text/html": [
       "<div>\n",
       "<style scoped>\n",
       "    .dataframe tbody tr th:only-of-type {\n",
       "        vertical-align: middle;\n",
       "    }\n",
       "\n",
       "    .dataframe tbody tr th {\n",
       "        vertical-align: top;\n",
       "    }\n",
       "\n",
       "    .dataframe thead th {\n",
       "        text-align: right;\n",
       "    }\n",
       "</style>\n",
       "<table border=\"1\" class=\"dataframe\">\n",
       "  <thead>\n",
       "    <tr style=\"text-align: right;\">\n",
       "      <th></th>\n",
       "      <th>Race</th>\n",
       "      <th>Populatioin</th>\n",
       "      <th>State</th>\n",
       "      <th>County</th>\n",
       "    </tr>\n",
       "  </thead>\n",
       "  <tbody>\n",
       "    <tr>\n",
       "      <th>0</th>\n",
       "      <td>All races</td>\n",
       "      <td>33610</td>\n",
       "      <td>Georgia</td>\n",
       "      <td>Lumpkin</td>\n",
       "    </tr>\n",
       "    <tr>\n",
       "      <th>1</th>\n",
       "      <td>White alone</td>\n",
       "      <td>31828</td>\n",
       "      <td>Georgia</td>\n",
       "      <td>Lumpkin</td>\n",
       "    </tr>\n",
       "    <tr>\n",
       "      <th>2</th>\n",
       "      <td>Black alone</td>\n",
       "      <td>585</td>\n",
       "      <td>Georgia</td>\n",
       "      <td>Lumpkin</td>\n",
       "    </tr>\n",
       "    <tr>\n",
       "      <th>3</th>\n",
       "      <td>American Indian and Alaska Native alone</td>\n",
       "      <td>257</td>\n",
       "      <td>Georgia</td>\n",
       "      <td>Lumpkin</td>\n",
       "    </tr>\n",
       "    <tr>\n",
       "      <th>4</th>\n",
       "      <td>Asian alone</td>\n",
       "      <td>268</td>\n",
       "      <td>Georgia</td>\n",
       "      <td>Lumpkin</td>\n",
       "    </tr>\n",
       "    <tr>\n",
       "      <th>...</th>\n",
       "      <td>...</td>\n",
       "      <td>...</td>\n",
       "      <td>...</td>\n",
       "      <td>...</td>\n",
       "    </tr>\n",
       "    <tr>\n",
       "      <th>1903</th>\n",
       "      <td>White alone or in combination</td>\n",
       "      <td>9720</td>\n",
       "      <td>Georgia</td>\n",
       "      <td>Brooks</td>\n",
       "    </tr>\n",
       "    <tr>\n",
       "      <th>1904</th>\n",
       "      <td>Black alone or in combination</td>\n",
       "      <td>5573</td>\n",
       "      <td>Georgia</td>\n",
       "      <td>Brooks</td>\n",
       "    </tr>\n",
       "    <tr>\n",
       "      <th>1905</th>\n",
       "      <td>American Indian and Alaska Native alone or in ...</td>\n",
       "      <td>157</td>\n",
       "      <td>Georgia</td>\n",
       "      <td>Brooks</td>\n",
       "    </tr>\n",
       "    <tr>\n",
       "      <th>1906</th>\n",
       "      <td>Asian alone or in combination</td>\n",
       "      <td>212</td>\n",
       "      <td>Georgia</td>\n",
       "      <td>Brooks</td>\n",
       "    </tr>\n",
       "    <tr>\n",
       "      <th>1907</th>\n",
       "      <td>Native Hawaiian and Other Pacific Islander alo...</td>\n",
       "      <td>53</td>\n",
       "      <td>Georgia</td>\n",
       "      <td>Brooks</td>\n",
       "    </tr>\n",
       "  </tbody>\n",
       "</table>\n",
       "<p>1908 rows × 4 columns</p>\n",
       "</div>"
      ],
      "text/plain": [
       "                                                   Race Populatioin    State  \\\n",
       "0                                             All races       33610  Georgia   \n",
       "1                                           White alone       31828  Georgia   \n",
       "2                                           Black alone         585  Georgia   \n",
       "3               American Indian and Alaska Native alone         257  Georgia   \n",
       "4                                           Asian alone         268  Georgia   \n",
       "...                                                 ...         ...      ...   \n",
       "1903                      White alone or in combination        9720  Georgia   \n",
       "1904                      Black alone or in combination        5573  Georgia   \n",
       "1905  American Indian and Alaska Native alone or in ...         157  Georgia   \n",
       "1906                      Asian alone or in combination         212  Georgia   \n",
       "1907  Native Hawaiian and Other Pacific Islander alo...          53  Georgia   \n",
       "\n",
       "       County  \n",
       "0     Lumpkin  \n",
       "1     Lumpkin  \n",
       "2     Lumpkin  \n",
       "3     Lumpkin  \n",
       "4     Lumpkin  \n",
       "...       ...  \n",
       "1903   Brooks  \n",
       "1904   Brooks  \n",
       "1905   Brooks  \n",
       "1906   Brooks  \n",
       "1907   Brooks  \n",
       "\n",
       "[1908 rows x 4 columns]"
      ]
     },
     "execution_count": 7,
     "metadata": {},
     "output_type": "execute_result"
    }
   ],
   "source": [
    "#Show the dataframe with race, population, state, and county\n",
    "df2"
   ]
  },
  {
   "cell_type": "code",
   "execution_count": 8,
   "metadata": {},
   "outputs": [],
   "source": [
    "# Save the dataframe to a csv file\n",
    "df2.to_csv(r'Demographic_data_GAcounty.csv', index = False)"
   ]
  }
 ],
 "metadata": {
  "kernelspec": {
   "display_name": "Python 3",
   "language": "python",
   "name": "python3"
  },
  "language_info": {
   "codemirror_mode": {
    "name": "ipython",
    "version": 3
   },
   "file_extension": ".py",
   "mimetype": "text/x-python",
   "name": "python",
   "nbconvert_exporter": "python",
   "pygments_lexer": "ipython3",
   "version": "3.7.6"
  }
 },
 "nbformat": 4,
 "nbformat_minor": 4
}
