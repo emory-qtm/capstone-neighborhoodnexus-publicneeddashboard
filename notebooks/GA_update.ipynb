{
  "nbformat": 4,
  "nbformat_minor": 0,
  "metadata": {
    "colab": {
      "name": "GA_update.ipynb",
      "provenance": [],
      "collapsed_sections": []
    },
    "kernelspec": {
      "name": "python3",
      "display_name": "Python 3"
    }
  },
  "cells": [
    {
      "cell_type": "code",
      "metadata": {
        "id": "mHUtjfZlKICG",
        "colab": {
          "base_uri": "https://localhost:8080/"
        },
        "outputId": "fdadc936-ef83-4db8-8be7-21c0a43bdd64"
      },
      "source": [
        "!pip install pytrends\n",
        "from pytrends.request import TrendReq\n",
        "import pandas as pd\n",
        "from datetime import date\n",
        "import gspread\n",
        "from oauth2client.service_account import ServiceAccountCredentials\n",
        "from gspread_dataframe import get_as_dataframe, set_with_dataframe"
      ],
      "execution_count": null,
      "outputs": [
        {
          "output_type": "stream",
          "text": [
            "Requirement already satisfied: pytrends in /usr/local/lib/python3.7/dist-packages (4.7.3)\n",
            "Requirement already satisfied: lxml in /usr/local/lib/python3.7/dist-packages (from pytrends) (4.2.6)\n",
            "Requirement already satisfied: pandas>=0.25 in /usr/local/lib/python3.7/dist-packages (from pytrends) (1.1.5)\n",
            "Requirement already satisfied: requests in /usr/local/lib/python3.7/dist-packages (from pytrends) (2.23.0)\n",
            "Requirement already satisfied: numpy>=1.15.4 in /usr/local/lib/python3.7/dist-packages (from pandas>=0.25->pytrends) (1.19.5)\n",
            "Requirement already satisfied: pytz>=2017.2 in /usr/local/lib/python3.7/dist-packages (from pandas>=0.25->pytrends) (2018.9)\n",
            "Requirement already satisfied: python-dateutil>=2.7.3 in /usr/local/lib/python3.7/dist-packages (from pandas>=0.25->pytrends) (2.8.1)\n",
            "Requirement already satisfied: idna<3,>=2.5 in /usr/local/lib/python3.7/dist-packages (from requests->pytrends) (2.10)\n",
            "Requirement already satisfied: urllib3!=1.25.0,!=1.25.1,<1.26,>=1.21.1 in /usr/local/lib/python3.7/dist-packages (from requests->pytrends) (1.24.3)\n",
            "Requirement already satisfied: chardet<4,>=3.0.2 in /usr/local/lib/python3.7/dist-packages (from requests->pytrends) (3.0.4)\n",
            "Requirement already satisfied: certifi>=2017.4.17 in /usr/local/lib/python3.7/dist-packages (from requests->pytrends) (2020.12.5)\n",
            "Requirement already satisfied: six>=1.5 in /usr/local/lib/python3.7/dist-packages (from python-dateutil>=2.7.3->pandas>=0.25->pytrends) (1.15.0)\n"
          ],
          "name": "stdout"
        }
      ]
    },
    {
      "cell_type": "code",
      "metadata": {
        "id": "uu5xF-kxKNvL"
      },
      "source": [
        "## daily range\n",
        "date_range = pd.date_range(start=\"2020-10-01\", end=\"2020-11-01\")"
      ],
      "execution_count": null,
      "outputs": []
    },
    {
      "cell_type": "code",
      "metadata": {
        "id": "RjCvbEScKPMP"
      },
      "source": [
        "## import pytrends, final df format\n",
        "pytrends = TrendReq(hl='en-US', tz=360)\n",
        "final_df = pd.DataFrame([], columns = ['geoName', 'geoCode', 'value', 'topic', 'date'])"
      ],
      "execution_count": null,
      "outputs": []
    },
    {
      "cell_type": "code",
      "metadata": {
        "id": "6w2h8cJqKSAm"
      },
      "source": [
        "## keywords\n",
        "kw_list = ['Transportation', \n",
        "           'Domestic Violence']\n",
        "\n",
        "cat_list = ['Transportation', 'Domestic Violence']"
      ],
      "execution_count": null,
      "outputs": []
    },
    {
      "cell_type": "code",
      "metadata": {
        "id": "15_KOS7xKU5t",
        "colab": {
          "base_uri": "https://localhost:8080/",
          "height": 375
        },
        "outputId": "bfbb3cbd-89af-4749-b637-2e4217588c1f"
      },
      "source": [
        "idx = 0\n",
        "\n",
        "for i in kw_list:\n",
        "  ## temporary df format for each topic\n",
        "  new_df = pd.DataFrame([], columns = ['geoName', 'geoCode', i, 'date'])\n",
        "  \n",
        "  for j in range(0, len(date_range)-1):\n",
        "    tf = '' + date_range[j].strftime('%Y-%m-%d') + ' ' + date_range[j+1].strftime('%Y-%m-%d')\n",
        "    pytrends.build_payload([i], timeframe = tf, geo='US-GA')\n",
        "    df = pytrends.interest_by_region(resolution='CITY', inc_low_vol=True, inc_geo_code=True)\n",
        "    df = df.reset_index()\n",
        "\n",
        "    date = []\n",
        "    for k in range(0, len(df)):\n",
        "      date.append(date_range[j].strftime('%Y-%m-%d'))\n",
        "        \n",
        "    df['date'] = date\n",
        "    new_df = new_df.append(df, ignore_index=True)\n",
        "  \n",
        "\n",
        "  new_df.rename(columns={i: 'value'}, inplace = True)\n",
        "\n",
        "  ## add topic column\n",
        "  cat = cat_list[idx]\n",
        "  idx += 1\n",
        "  topic = []\n",
        "  for l in range(0, len(new_df)):\n",
        "    topic.append(cat)\n",
        "  new_df['topic'] = topic\n",
        "  \n",
        "  final_df = final_df.append(new_df, ignore_index= True)"
      ],
      "execution_count": null,
      "outputs": [
        {
          "output_type": "error",
          "ename": "ResponseError",
          "evalue": "ignored",
          "traceback": [
            "\u001b[0;31m---------------------------------------------------------------------------\u001b[0m",
            "\u001b[0;31mResponseError\u001b[0m                             Traceback (most recent call last)",
            "\u001b[0;32m<ipython-input-197-d05cf91507e2>\u001b[0m in \u001b[0;36m<module>\u001b[0;34m()\u001b[0m\n\u001b[1;32m      7\u001b[0m   \u001b[0;32mfor\u001b[0m \u001b[0mj\u001b[0m \u001b[0;32min\u001b[0m \u001b[0mrange\u001b[0m\u001b[0;34m(\u001b[0m\u001b[0;36m0\u001b[0m\u001b[0;34m,\u001b[0m \u001b[0mlen\u001b[0m\u001b[0;34m(\u001b[0m\u001b[0mdate_range\u001b[0m\u001b[0;34m)\u001b[0m\u001b[0;34m-\u001b[0m\u001b[0;36m1\u001b[0m\u001b[0;34m)\u001b[0m\u001b[0;34m:\u001b[0m\u001b[0;34m\u001b[0m\u001b[0;34m\u001b[0m\u001b[0m\n\u001b[1;32m      8\u001b[0m     \u001b[0mtf\u001b[0m \u001b[0;34m=\u001b[0m \u001b[0;34m''\u001b[0m \u001b[0;34m+\u001b[0m \u001b[0mdate_range\u001b[0m\u001b[0;34m[\u001b[0m\u001b[0mj\u001b[0m\u001b[0;34m]\u001b[0m\u001b[0;34m.\u001b[0m\u001b[0mstrftime\u001b[0m\u001b[0;34m(\u001b[0m\u001b[0;34m'%Y-%m-%d'\u001b[0m\u001b[0;34m)\u001b[0m \u001b[0;34m+\u001b[0m \u001b[0;34m' '\u001b[0m \u001b[0;34m+\u001b[0m \u001b[0mdate_range\u001b[0m\u001b[0;34m[\u001b[0m\u001b[0mj\u001b[0m\u001b[0;34m+\u001b[0m\u001b[0;36m1\u001b[0m\u001b[0;34m]\u001b[0m\u001b[0;34m.\u001b[0m\u001b[0mstrftime\u001b[0m\u001b[0;34m(\u001b[0m\u001b[0;34m'%Y-%m-%d'\u001b[0m\u001b[0;34m)\u001b[0m\u001b[0;34m\u001b[0m\u001b[0;34m\u001b[0m\u001b[0m\n\u001b[0;32m----> 9\u001b[0;31m     \u001b[0mpytrends\u001b[0m\u001b[0;34m.\u001b[0m\u001b[0mbuild_payload\u001b[0m\u001b[0;34m(\u001b[0m\u001b[0;34m[\u001b[0m\u001b[0mi\u001b[0m\u001b[0;34m]\u001b[0m\u001b[0;34m,\u001b[0m \u001b[0mtimeframe\u001b[0m \u001b[0;34m=\u001b[0m \u001b[0mtf\u001b[0m\u001b[0;34m,\u001b[0m \u001b[0mgeo\u001b[0m\u001b[0;34m=\u001b[0m\u001b[0;34m'US-GA'\u001b[0m\u001b[0;34m)\u001b[0m\u001b[0;34m\u001b[0m\u001b[0;34m\u001b[0m\u001b[0m\n\u001b[0m\u001b[1;32m     10\u001b[0m     \u001b[0mdf\u001b[0m \u001b[0;34m=\u001b[0m \u001b[0mpytrends\u001b[0m\u001b[0;34m.\u001b[0m\u001b[0minterest_by_region\u001b[0m\u001b[0;34m(\u001b[0m\u001b[0mresolution\u001b[0m\u001b[0;34m=\u001b[0m\u001b[0;34m'CITY'\u001b[0m\u001b[0;34m,\u001b[0m \u001b[0minc_low_vol\u001b[0m\u001b[0;34m=\u001b[0m\u001b[0;32mTrue\u001b[0m\u001b[0;34m,\u001b[0m \u001b[0minc_geo_code\u001b[0m\u001b[0;34m=\u001b[0m\u001b[0;32mTrue\u001b[0m\u001b[0;34m)\u001b[0m\u001b[0;34m\u001b[0m\u001b[0;34m\u001b[0m\u001b[0m\n\u001b[1;32m     11\u001b[0m     \u001b[0mdf\u001b[0m \u001b[0;34m=\u001b[0m \u001b[0mdf\u001b[0m\u001b[0;34m.\u001b[0m\u001b[0mreset_index\u001b[0m\u001b[0;34m(\u001b[0m\u001b[0;34m)\u001b[0m\u001b[0;34m\u001b[0m\u001b[0;34m\u001b[0m\u001b[0m\n",
            "\u001b[0;32m/usr/local/lib/python3.7/dist-packages/pytrends/request.py\u001b[0m in \u001b[0;36mbuild_payload\u001b[0;34m(self, kw_list, cat, timeframe, geo, gprop)\u001b[0m\n\u001b[1;32m    167\u001b[0m         \u001b[0mself\u001b[0m\u001b[0;34m.\u001b[0m\u001b[0mtoken_payload\u001b[0m\u001b[0;34m[\u001b[0m\u001b[0;34m'req'\u001b[0m\u001b[0;34m]\u001b[0m \u001b[0;34m=\u001b[0m \u001b[0mjson\u001b[0m\u001b[0;34m.\u001b[0m\u001b[0mdumps\u001b[0m\u001b[0;34m(\u001b[0m\u001b[0mself\u001b[0m\u001b[0;34m.\u001b[0m\u001b[0mtoken_payload\u001b[0m\u001b[0;34m[\u001b[0m\u001b[0;34m'req'\u001b[0m\u001b[0;34m]\u001b[0m\u001b[0;34m)\u001b[0m\u001b[0;34m\u001b[0m\u001b[0;34m\u001b[0m\u001b[0m\n\u001b[1;32m    168\u001b[0m         \u001b[0;31m# get tokens\u001b[0m\u001b[0;34m\u001b[0m\u001b[0;34m\u001b[0m\u001b[0;34m\u001b[0m\u001b[0m\n\u001b[0;32m--> 169\u001b[0;31m         \u001b[0mself\u001b[0m\u001b[0;34m.\u001b[0m\u001b[0m_tokens\u001b[0m\u001b[0;34m(\u001b[0m\u001b[0;34m)\u001b[0m\u001b[0;34m\u001b[0m\u001b[0;34m\u001b[0m\u001b[0m\n\u001b[0m\u001b[1;32m    170\u001b[0m         \u001b[0;32mreturn\u001b[0m\u001b[0;34m\u001b[0m\u001b[0;34m\u001b[0m\u001b[0m\n\u001b[1;32m    171\u001b[0m \u001b[0;34m\u001b[0m\u001b[0m\n",
            "\u001b[0;32m/usr/local/lib/python3.7/dist-packages/pytrends/request.py\u001b[0m in \u001b[0;36m_tokens\u001b[0;34m(self)\u001b[0m\n\u001b[1;32m    177\u001b[0m             \u001b[0mmethod\u001b[0m\u001b[0;34m=\u001b[0m\u001b[0mTrendReq\u001b[0m\u001b[0;34m.\u001b[0m\u001b[0mGET_METHOD\u001b[0m\u001b[0;34m,\u001b[0m\u001b[0;34m\u001b[0m\u001b[0;34m\u001b[0m\u001b[0m\n\u001b[1;32m    178\u001b[0m             \u001b[0mparams\u001b[0m\u001b[0;34m=\u001b[0m\u001b[0mself\u001b[0m\u001b[0;34m.\u001b[0m\u001b[0mtoken_payload\u001b[0m\u001b[0;34m,\u001b[0m\u001b[0;34m\u001b[0m\u001b[0;34m\u001b[0m\u001b[0m\n\u001b[0;32m--> 179\u001b[0;31m             \u001b[0mtrim_chars\u001b[0m\u001b[0;34m=\u001b[0m\u001b[0;36m4\u001b[0m\u001b[0;34m,\u001b[0m\u001b[0;34m\u001b[0m\u001b[0;34m\u001b[0m\u001b[0m\n\u001b[0m\u001b[1;32m    180\u001b[0m         )['widgets']\n\u001b[1;32m    181\u001b[0m         \u001b[0;31m# order of the json matters...\u001b[0m\u001b[0;34m\u001b[0m\u001b[0;34m\u001b[0m\u001b[0;34m\u001b[0m\u001b[0m\n",
            "\u001b[0;32m/usr/local/lib/python3.7/dist-packages/pytrends/request.py\u001b[0m in \u001b[0;36m_get_data\u001b[0;34m(self, url, method, trim_chars, **kwargs)\u001b[0m\n\u001b[1;32m    146\u001b[0m                 \u001b[0;34m'The request failed: Google returned a '\u001b[0m\u001b[0;34m\u001b[0m\u001b[0;34m\u001b[0m\u001b[0m\n\u001b[1;32m    147\u001b[0m                 \u001b[0;34m'response with code {0}.'\u001b[0m\u001b[0;34m.\u001b[0m\u001b[0mformat\u001b[0m\u001b[0;34m(\u001b[0m\u001b[0mresponse\u001b[0m\u001b[0;34m.\u001b[0m\u001b[0mstatus_code\u001b[0m\u001b[0;34m)\u001b[0m\u001b[0;34m,\u001b[0m\u001b[0;34m\u001b[0m\u001b[0;34m\u001b[0m\u001b[0m\n\u001b[0;32m--> 148\u001b[0;31m                 response=response)\n\u001b[0m\u001b[1;32m    149\u001b[0m \u001b[0;34m\u001b[0m\u001b[0m\n\u001b[1;32m    150\u001b[0m     def build_payload(self, kw_list, cat=0, timeframe='today 5-y', geo='',\n",
            "\u001b[0;31mResponseError\u001b[0m: The request failed: Google returned a response with code 429."
          ]
        }
      ]
    },
    {
      "cell_type": "code",
      "metadata": {
        "colab": {
          "base_uri": "https://localhost:8080/",
          "height": 419
        },
        "id": "S6JO2S8evAD8",
        "outputId": "66751cbb-9bd9-40d9-d079-cb91a9635ba7"
      },
      "source": [
        "final_df"
      ],
      "execution_count": null,
      "outputs": [
        {
          "output_type": "execute_result",
          "data": {
            "text/html": [
              "<div>\n",
              "<style scoped>\n",
              "    .dataframe tbody tr th:only-of-type {\n",
              "        vertical-align: middle;\n",
              "    }\n",
              "\n",
              "    .dataframe tbody tr th {\n",
              "        vertical-align: top;\n",
              "    }\n",
              "\n",
              "    .dataframe thead th {\n",
              "        text-align: right;\n",
              "    }\n",
              "</style>\n",
              "<table border=\"1\" class=\"dataframe\">\n",
              "  <thead>\n",
              "    <tr style=\"text-align: right;\">\n",
              "      <th></th>\n",
              "      <th>geoName</th>\n",
              "      <th>geoCode</th>\n",
              "      <th>value</th>\n",
              "      <th>topic</th>\n",
              "      <th>date</th>\n",
              "    </tr>\n",
              "  </thead>\n",
              "  <tbody>\n",
              "    <tr>\n",
              "      <th>0</th>\n",
              "      <td>Albany GA</td>\n",
              "      <td>525</td>\n",
              "      <td>58</td>\n",
              "      <td>Transportation</td>\n",
              "      <td>2020-09-01</td>\n",
              "    </tr>\n",
              "    <tr>\n",
              "      <th>1</th>\n",
              "      <td>Atlanta GA</td>\n",
              "      <td>524</td>\n",
              "      <td>24</td>\n",
              "      <td>Transportation</td>\n",
              "      <td>2020-09-01</td>\n",
              "    </tr>\n",
              "    <tr>\n",
              "      <th>2</th>\n",
              "      <td>Augusta GA</td>\n",
              "      <td>520</td>\n",
              "      <td>29</td>\n",
              "      <td>Transportation</td>\n",
              "      <td>2020-09-01</td>\n",
              "    </tr>\n",
              "    <tr>\n",
              "      <th>3</th>\n",
              "      <td>Chattanooga TN</td>\n",
              "      <td>575</td>\n",
              "      <td>20</td>\n",
              "      <td>Transportation</td>\n",
              "      <td>2020-09-01</td>\n",
              "    </tr>\n",
              "    <tr>\n",
              "      <th>4</th>\n",
              "      <td>Columbus GA</td>\n",
              "      <td>522</td>\n",
              "      <td>0</td>\n",
              "      <td>Transportation</td>\n",
              "      <td>2020-09-01</td>\n",
              "    </tr>\n",
              "    <tr>\n",
              "      <th>...</th>\n",
              "      <td>...</td>\n",
              "      <td>...</td>\n",
              "      <td>...</td>\n",
              "      <td>...</td>\n",
              "      <td>...</td>\n",
              "    </tr>\n",
              "    <tr>\n",
              "      <th>595</th>\n",
              "      <td>Dothan AL</td>\n",
              "      <td>606</td>\n",
              "      <td>0</td>\n",
              "      <td>Domestic Violence</td>\n",
              "      <td>2020-09-30</td>\n",
              "    </tr>\n",
              "    <tr>\n",
              "      <th>596</th>\n",
              "      <td>Jacksonville FL</td>\n",
              "      <td>561</td>\n",
              "      <td>0</td>\n",
              "      <td>Domestic Violence</td>\n",
              "      <td>2020-09-30</td>\n",
              "    </tr>\n",
              "    <tr>\n",
              "      <th>597</th>\n",
              "      <td>Macon GA</td>\n",
              "      <td>503</td>\n",
              "      <td>0</td>\n",
              "      <td>Domestic Violence</td>\n",
              "      <td>2020-09-30</td>\n",
              "    </tr>\n",
              "    <tr>\n",
              "      <th>598</th>\n",
              "      <td>Savannah GA</td>\n",
              "      <td>507</td>\n",
              "      <td>0</td>\n",
              "      <td>Domestic Violence</td>\n",
              "      <td>2020-09-30</td>\n",
              "    </tr>\n",
              "    <tr>\n",
              "      <th>599</th>\n",
              "      <td>Tallahassee FL-Thomasville GA</td>\n",
              "      <td>530</td>\n",
              "      <td>0</td>\n",
              "      <td>Domestic Violence</td>\n",
              "      <td>2020-09-30</td>\n",
              "    </tr>\n",
              "  </tbody>\n",
              "</table>\n",
              "<p>600 rows × 5 columns</p>\n",
              "</div>"
            ],
            "text/plain": [
              "                           geoName geoCode value              topic        date\n",
              "0                        Albany GA     525    58     Transportation  2020-09-01\n",
              "1                       Atlanta GA     524    24     Transportation  2020-09-01\n",
              "2                       Augusta GA     520    29     Transportation  2020-09-01\n",
              "3                   Chattanooga TN     575    20     Transportation  2020-09-01\n",
              "4                      Columbus GA     522     0     Transportation  2020-09-01\n",
              "..                             ...     ...   ...                ...         ...\n",
              "595                      Dothan AL     606     0  Domestic Violence  2020-09-30\n",
              "596                Jacksonville FL     561     0  Domestic Violence  2020-09-30\n",
              "597                       Macon GA     503     0  Domestic Violence  2020-09-30\n",
              "598                    Savannah GA     507     0  Domestic Violence  2020-09-30\n",
              "599  Tallahassee FL-Thomasville GA     530     0  Domestic Violence  2020-09-30\n",
              "\n",
              "[600 rows x 5 columns]"
            ]
          },
          "metadata": {
            "tags": []
          },
          "execution_count": 182
        }
      ]
    },
    {
      "cell_type": "code",
      "metadata": {
        "id": "2SD80iBfKXDs",
        "colab": {
          "base_uri": "https://localhost:8080/"
        },
        "outputId": "fd348d26-bd21-4102-a983-c94dcda2a020"
      },
      "source": [
        "from google.colab import drive\n",
        "drive.mount('/content/drive')"
      ],
      "execution_count": null,
      "outputs": [
        {
          "output_type": "stream",
          "text": [
            "Drive already mounted at /content/drive; to attempt to forcibly remount, call drive.mount(\"/content/drive\", force_remount=True).\n"
          ],
          "name": "stdout"
        }
      ]
    },
    {
      "cell_type": "code",
      "metadata": {
        "id": "HjiJneSAKZoj"
      },
      "source": [
        "## connecting gspreads\n",
        "scope = [\n",
        "'https://spreadsheets.google.com/feeds'\n",
        "]\n",
        "json_file_name = '/directory_stored_json_file/***.json' ## refers to the README to download your own JSON file\n",
        "creds = ServiceAccountCredentials.from_json_keyfile_name(json_file_name, scope)\n",
        "client = gspread.authorize(creds)\n",
        "\n",
        "## open by url\n",
        "spreadsheet_url = 'https://docs.google.com/spreadsheets/d/1y4nR64TtGQ0F9sUvE0hzDN1xh9TZYfb0u9un82TECKY/' # go on link to view dataset\n",
        "sheet = client.open_by_url(spreadsheet_url)\n",
        "worksheet = sheet.worksheet('Sheet1')\n",
        "\n",
        "## update google sheet\n",
        "existing = get_as_dataframe(worksheet)\n",
        "existing = existing.dropna(how=\"all\")\n",
        "existing = existing.iloc[:, 0:5]\n",
        "update = existing.append(final_df, ignore_index= True)\n",
        "set_with_dataframe(worksheet, update)"
      ],
      "execution_count": null,
      "outputs": []
    }
  ]
}
