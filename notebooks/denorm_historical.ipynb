{
  "nbformat": 4,
  "nbformat_minor": 0,
  "metadata": {
    "colab": {
      "name": "denorm_historical.ipynb",
      "provenance": [],
      "collapsed_sections": []
    },
    "kernelspec": {
      "name": "python3",
      "display_name": "Python 3"
    },
    "language_info": {
      "name": "python"
    }
  },
  "cells": [
    {
      "cell_type": "markdown",
      "metadata": {
        "id": "tTfF4pl3Sz-W"
      },
      "source": [
        "# Import Packages"
      ]
    },
    {
      "cell_type": "code",
      "metadata": {
        "colab": {
          "base_uri": "https://localhost:8080/"
        },
        "id": "aE1-gsQg_fZ5",
        "outputId": "33a71576-3faa-46d4-9c6b-238458bdb867"
      },
      "source": [
        "## import packages\n",
        "import pandas as pd\n",
        "from datetime import date\n",
        "import gspread\n",
        "from oauth2client.service_account import ServiceAccountCredentials\n",
        "from gspread_dataframe import set_with_dataframe, get_as_dataframe\n",
        "!pip install gtab\n",
        "\n",
        "import gtab\n",
        "t = gtab.GTAB()"
      ],
      "execution_count": null,
      "outputs": [
        {
          "output_type": "stream",
          "text": [
            "Collecting gtab\n",
            "\u001b[?25l  Downloading https://files.pythonhosted.org/packages/36/9d/03b54364c51271bfbafbcf25f741298e8785e2f6a06169b7953c000d97c8/gtab-0.7-py3-none-any.whl (658kB)\n",
            "\r\u001b[K     |▌                               | 10kB 7.3MB/s eta 0:00:01\r\u001b[K     |█                               | 20kB 11.8MB/s eta 0:00:01\r\u001b[K     |█▌                              | 30kB 7.8MB/s eta 0:00:01\r\u001b[K     |██                              | 40kB 7.2MB/s eta 0:00:01\r\u001b[K     |██▌                             | 51kB 4.5MB/s eta 0:00:01\r\u001b[K     |███                             | 61kB 4.8MB/s eta 0:00:01\r\u001b[K     |███▌                            | 71kB 5.2MB/s eta 0:00:01\r\u001b[K     |████                            | 81kB 5.4MB/s eta 0:00:01\r\u001b[K     |████▌                           | 92kB 5.3MB/s eta 0:00:01\r\u001b[K     |█████                           | 102kB 5.6MB/s eta 0:00:01\r\u001b[K     |█████▌                          | 112kB 5.6MB/s eta 0:00:01\r\u001b[K     |██████                          | 122kB 5.6MB/s eta 0:00:01\r\u001b[K     |██████▌                         | 133kB 5.6MB/s eta 0:00:01\r\u001b[K     |███████                         | 143kB 5.6MB/s eta 0:00:01\r\u001b[K     |███████▌                        | 153kB 5.6MB/s eta 0:00:01\r\u001b[K     |████████                        | 163kB 5.6MB/s eta 0:00:01\r\u001b[K     |████████▌                       | 174kB 5.6MB/s eta 0:00:01\r\u001b[K     |█████████                       | 184kB 5.6MB/s eta 0:00:01\r\u001b[K     |█████████▌                      | 194kB 5.6MB/s eta 0:00:01\r\u001b[K     |██████████                      | 204kB 5.6MB/s eta 0:00:01\r\u001b[K     |██████████▌                     | 215kB 5.6MB/s eta 0:00:01\r\u001b[K     |███████████                     | 225kB 5.6MB/s eta 0:00:01\r\u001b[K     |███████████▌                    | 235kB 5.6MB/s eta 0:00:01\r\u001b[K     |████████████                    | 245kB 5.6MB/s eta 0:00:01\r\u001b[K     |████████████▍                   | 256kB 5.6MB/s eta 0:00:01\r\u001b[K     |█████████████                   | 266kB 5.6MB/s eta 0:00:01\r\u001b[K     |█████████████▍                  | 276kB 5.6MB/s eta 0:00:01\r\u001b[K     |██████████████                  | 286kB 5.6MB/s eta 0:00:01\r\u001b[K     |██████████████▍                 | 296kB 5.6MB/s eta 0:00:01\r\u001b[K     |███████████████                 | 307kB 5.6MB/s eta 0:00:01\r\u001b[K     |███████████████▍                | 317kB 5.6MB/s eta 0:00:01\r\u001b[K     |████████████████                | 327kB 5.6MB/s eta 0:00:01\r\u001b[K     |████████████████▍               | 337kB 5.6MB/s eta 0:00:01\r\u001b[K     |█████████████████               | 348kB 5.6MB/s eta 0:00:01\r\u001b[K     |█████████████████▍              | 358kB 5.6MB/s eta 0:00:01\r\u001b[K     |██████████████████              | 368kB 5.6MB/s eta 0:00:01\r\u001b[K     |██████████████████▍             | 378kB 5.6MB/s eta 0:00:01\r\u001b[K     |███████████████████             | 389kB 5.6MB/s eta 0:00:01\r\u001b[K     |███████████████████▍            | 399kB 5.6MB/s eta 0:00:01\r\u001b[K     |████████████████████            | 409kB 5.6MB/s eta 0:00:01\r\u001b[K     |████████████████████▍           | 419kB 5.6MB/s eta 0:00:01\r\u001b[K     |█████████████████████           | 430kB 5.6MB/s eta 0:00:01\r\u001b[K     |█████████████████████▍          | 440kB 5.6MB/s eta 0:00:01\r\u001b[K     |██████████████████████          | 450kB 5.6MB/s eta 0:00:01\r\u001b[K     |██████████████████████▍         | 460kB 5.6MB/s eta 0:00:01\r\u001b[K     |███████████████████████         | 471kB 5.6MB/s eta 0:00:01\r\u001b[K     |███████████████████████▍        | 481kB 5.6MB/s eta 0:00:01\r\u001b[K     |███████████████████████▉        | 491kB 5.6MB/s eta 0:00:01\r\u001b[K     |████████████████████████▍       | 501kB 5.6MB/s eta 0:00:01\r\u001b[K     |████████████████████████▉       | 512kB 5.6MB/s eta 0:00:01\r\u001b[K     |█████████████████████████▍      | 522kB 5.6MB/s eta 0:00:01\r\u001b[K     |█████████████████████████▉      | 532kB 5.6MB/s eta 0:00:01\r\u001b[K     |██████████████████████████▍     | 542kB 5.6MB/s eta 0:00:01\r\u001b[K     |██████████████████████████▉     | 552kB 5.6MB/s eta 0:00:01\r\u001b[K     |███████████████████████████▍    | 563kB 5.6MB/s eta 0:00:01\r\u001b[K     |███████████████████████████▉    | 573kB 5.6MB/s eta 0:00:01\r\u001b[K     |████████████████████████████▍   | 583kB 5.6MB/s eta 0:00:01\r\u001b[K     |████████████████████████████▉   | 593kB 5.6MB/s eta 0:00:01\r\u001b[K     |█████████████████████████████▍  | 604kB 5.6MB/s eta 0:00:01\r\u001b[K     |█████████████████████████████▉  | 614kB 5.6MB/s eta 0:00:01\r\u001b[K     |██████████████████████████████▍ | 624kB 5.6MB/s eta 0:00:01\r\u001b[K     |██████████████████████████████▉ | 634kB 5.6MB/s eta 0:00:01\r\u001b[K     |███████████████████████████████▍| 645kB 5.6MB/s eta 0:00:01\r\u001b[K     |███████████████████████████████▉| 655kB 5.6MB/s eta 0:00:01\r\u001b[K     |████████████████████████████████| 665kB 5.6MB/s \n",
            "\u001b[?25hCollecting pytrends\n",
            "  Downloading https://files.pythonhosted.org/packages/96/53/a4a74c33bfdbe1740183e00769377352072e64182913562daf9f5e4f1938/pytrends-4.7.3-py3-none-any.whl\n",
            "Requirement already satisfied: numpy in /usr/local/lib/python3.7/dist-packages (from gtab) (1.19.5)\n",
            "Requirement already satisfied: networkx in /usr/local/lib/python3.7/dist-packages (from gtab) (2.5)\n",
            "Requirement already satisfied: tqdm in /usr/local/lib/python3.7/dist-packages (from gtab) (4.41.1)\n",
            "Requirement already satisfied: pandas in /usr/local/lib/python3.7/dist-packages (from gtab) (1.1.5)\n",
            "Requirement already satisfied: requests in /usr/local/lib/python3.7/dist-packages (from pytrends->gtab) (2.23.0)\n",
            "Requirement already satisfied: lxml in /usr/local/lib/python3.7/dist-packages (from pytrends->gtab) (4.2.6)\n",
            "Requirement already satisfied: decorator>=4.3.0 in /usr/local/lib/python3.7/dist-packages (from networkx->gtab) (4.4.2)\n",
            "Requirement already satisfied: python-dateutil>=2.7.3 in /usr/local/lib/python3.7/dist-packages (from pandas->gtab) (2.8.1)\n",
            "Requirement already satisfied: pytz>=2017.2 in /usr/local/lib/python3.7/dist-packages (from pandas->gtab) (2018.9)\n",
            "Requirement already satisfied: chardet<4,>=3.0.2 in /usr/local/lib/python3.7/dist-packages (from requests->pytrends->gtab) (3.0.4)\n",
            "Requirement already satisfied: certifi>=2017.4.17 in /usr/local/lib/python3.7/dist-packages (from requests->pytrends->gtab) (2020.12.5)\n",
            "Requirement already satisfied: idna<3,>=2.5 in /usr/local/lib/python3.7/dist-packages (from requests->pytrends->gtab) (2.10)\n",
            "Requirement already satisfied: urllib3!=1.25.0,!=1.25.1,<1.26,>=1.21.1 in /usr/local/lib/python3.7/dist-packages (from requests->pytrends->gtab) (1.24.3)\n",
            "Requirement already satisfied: six>=1.5 in /usr/local/lib/python3.7/dist-packages (from python-dateutil>=2.7.3->pandas->gtab) (1.15.0)\n",
            "Installing collected packages: pytrends, gtab\n",
            "Successfully installed gtab-0.7 pytrends-4.7.3\n",
            "Using directory '/usr/local/lib/python3.7/dist-packages/gtab'\n",
            "Active anchorbank changed to: google_anchorbank_geo=_timeframe=2019-01-01 2020-08-01.tsv\n",
            "\n"
          ],
          "name": "stdout"
        }
      ]
    },
    {
      "cell_type": "markdown",
      "metadata": {
        "id": "lWAYSUReS6ly"
      },
      "source": [
        "# Connect to Google Drive"
      ]
    },
    {
      "cell_type": "code",
      "metadata": {
        "colab": {
          "base_uri": "https://localhost:8080/"
        },
        "id": "RZ1l8jIl_srh",
        "outputId": "c7362e23-3740-4804-a4d2-74a54139dbea"
      },
      "source": [
        "## connect to google drive\n",
        "from google.colab import drive\n",
        "drive.mount('/content/drive')\n",
        "\n",
        "## create and initialize paths for logs\n",
        "my_path = \"/content/drive/MyDrive/[New]Data Extraction: Google Trends /example_path\"\n",
        "t = gtab.GTAB(dir_path=my_path)"
      ],
      "execution_count": null,
      "outputs": [
        {
          "output_type": "stream",
          "text": [
            "Mounted at /content/drive\n",
            "Directory already exists, loading data from it.\n",
            "Using directory '/content/drive/MyDrive/[New]Data Extraction: Google Trends /example_path'\n",
            "Active anchorbank changed to: google_anchorbank_geo=_timeframe=2019-01-01 2020-08-01.tsv\n",
            "\n"
          ],
          "name": "stdout"
        }
      ]
    },
    {
      "cell_type": "markdown",
      "metadata": {
        "id": "HcQa4rg7TCX1"
      },
      "source": [
        "# Define Top 17 Topics"
      ]
    },
    {
      "cell_type": "code",
      "metadata": {
        "id": "6treMMiHD06d"
      },
      "source": [
        "## create a dictionary containing 17 topics we selected\n",
        "topic_dic = {'Covid-19': 'Covid-19 + Pandemic + Quarantine + Covid + Coronavirus',\n",
        "             'FosterCare': 'Foster care + Adoption + Family Support',\n",
        "             'Racial Inequality': 'Racial Inequality + Racism + Discrimination',\n",
        "             'Disabilities': 'Disabilities',\n",
        "             'Disaster Services': 'Disaster Services + Homeless Shelter',\n",
        "             'Education': 'Education',\n",
        "             'Employment': 'Employment + Jobs + Unemployment',\n",
        "             'Food': 'Free Food + Food Banks + Food Assistance',\n",
        "             'Health Care': 'Health Care + Medicaid',\n",
        "             'Housing': 'Housing + Evictions + Rental Assistance',\n",
        "             'Income Support': 'Income Support + Income Assistance',\n",
        "             'Mental Health': 'Mental Health + Suicide Prevention',\n",
        "             'Utility Assistance': 'Utility Assistance',\n",
        "             'Internet Access': 'Internet Access + Free Wifi',\n",
        "             'Domestic Violence': 'Domestic Violence',\n",
        "             'Transportation': 'Transportation',\n",
        "             'Volunteers/Donations': 'Volunteers + Donations',\n",
        "             }"
      ],
      "execution_count": null,
      "outputs": []
    },
    {
      "cell_type": "markdown",
      "metadata": {
        "id": "j4AxRiUqTgNO"
      },
      "source": [
        "# Initialize the Data Frame"
      ]
    },
    {
      "cell_type": "code",
      "metadata": {
        "id": "zPilBOkYDHsc",
        "colab": {
          "base_uri": "https://localhost:8080/"
        },
        "outputId": "e6798488-0f87-443e-c6d2-ed317ab22f8c"
      },
      "source": [
        "## ------------------------------------------------------------------\n",
        "## (1) Extracting data from 2020-02-01 to 2020-12-31 *INITIALIZE*\n",
        "##     >> you need to run these steps of (1) only once!\n",
        "## ------------------------------------------------------------------\n",
        "## (1-1) create own anchor bank for extracting data\n",
        "##       from 2020-02-01 to 2020-03-01 in the US\n",
        "##       >> it returns 'google_anchorbank_geo=US_timeframe=2019-01-01 2020-12-31.tsv'\n",
        "##          and 'google_anchorbank_geo=US_timeframe=2020-02-01 2020-03-01.tsv'\n",
        "t.set_options(pytrends_config={\"geo\": \"US\", \"timeframe\": \"2020-02-01 2020-03-01\"})\n",
        "t.create_anchorbank()"
      ],
      "execution_count": null,
      "outputs": [
        {
          "output_type": "stream",
          "text": [
            "Active anchorbank changed to: google_anchorbank_geo=US_timeframe=2019-01-01 2020-12-31.tsv\n",
            "\n"
          ],
          "name": "stdout"
        }
      ]
    },
    {
      "cell_type": "code",
      "metadata": {
        "id": "s8QRJ6oZD8VP"
      },
      "source": [
        "## (1-2) activate anchor bank from 2019-01-01 to 2020-12-31 in the US\n",
        "t.set_active_gtab(\"google_anchorbank_geo=US_timeframe=2020-01-01 2020-12-31.tsv\")"
      ],
      "execution_count": null,
      "outputs": []
    },
    {
      "cell_type": "code",
      "metadata": {
        "colab": {
          "base_uri": "https://localhost:8080/"
        },
        "id": "DAdJbZ14Dyk2",
        "outputId": "0f00db86-b3b3-422d-81ee-00ebd0870cbf"
      },
      "source": [
        "## (1-3) extract data for 17 topics we selected\n",
        "update_df = pd.DataFrame([], columns = ['date', 'max_ratio', 'max_ratio_hi', 'max_ratio_lo','topic'])\n",
        "for key in topic_dic:\n",
        "\n",
        "    df = t.new_query(topic_dic[key])\n",
        "    df = df.reset_index()\n",
        "\n",
        "    topic = []\n",
        "    for l in range(0, len(df)):\n",
        "      topic.append(key)\n",
        "    \n",
        "    df['topic'] = topic\n",
        "    update_df = update_df.append(df, ignore_index= True)"
      ],
      "execution_count": null,
      "outputs": [
        {
          "output_type": "stream",
          "text": [
            "Using /content/drive/MyDrive/[New]Data Extraction: Google Trends /example_path/output/google_anchorbanks/google_anchorbank_geo=US_timeframe=2019-01-01 2020-12-31.tsv\n",
            "New query 'Covid-19 + Pandemic + Quarantine + Covid + Coronavirus'\n",
            "New query calibrated!\n",
            "Using /content/drive/MyDrive/[New]Data Extraction: Google Trends /example_path/output/google_anchorbanks/google_anchorbank_geo=US_timeframe=2019-01-01 2020-12-31.tsv\n",
            "New query 'Foster care + Adoption + Family Support'\n",
            "New query calibrated!\n",
            "Using /content/drive/MyDrive/[New]Data Extraction: Google Trends /example_path/output/google_anchorbanks/google_anchorbank_geo=US_timeframe=2019-01-01 2020-12-31.tsv\n",
            "New query 'Racial Inequality + Racism + Discrimination'\n",
            "New query calibrated!\n",
            "Using /content/drive/MyDrive/[New]Data Extraction: Google Trends /example_path/output/google_anchorbanks/google_anchorbank_geo=US_timeframe=2019-01-01 2020-12-31.tsv\n",
            "New query 'Disabilities'\n",
            "New query calibrated!\n",
            "Using /content/drive/MyDrive/[New]Data Extraction: Google Trends /example_path/output/google_anchorbanks/google_anchorbank_geo=US_timeframe=2019-01-01 2020-12-31.tsv\n",
            "New query 'Disaster Services + Homeless Shelter'\n",
            "New query calibrated!\n",
            "Using /content/drive/MyDrive/[New]Data Extraction: Google Trends /example_path/output/google_anchorbanks/google_anchorbank_geo=US_timeframe=2019-01-01 2020-12-31.tsv\n",
            "New query 'Education'\n",
            "New query calibrated!\n",
            "Using /content/drive/MyDrive/[New]Data Extraction: Google Trends /example_path/output/google_anchorbanks/google_anchorbank_geo=US_timeframe=2019-01-01 2020-12-31.tsv\n",
            "New query 'Employment + Jobs + Unemployment'\n",
            "New query calibrated!\n",
            "Using /content/drive/MyDrive/[New]Data Extraction: Google Trends /example_path/output/google_anchorbanks/google_anchorbank_geo=US_timeframe=2019-01-01 2020-12-31.tsv\n",
            "New query 'Free Food + Food Banks + Food Assistance'\n",
            "New query calibrated!\n",
            "Using /content/drive/MyDrive/[New]Data Extraction: Google Trends /example_path/output/google_anchorbanks/google_anchorbank_geo=US_timeframe=2019-01-01 2020-12-31.tsv\n",
            "New query 'Health Care + Medicaid'\n",
            "New query calibrated!\n",
            "Using /content/drive/MyDrive/[New]Data Extraction: Google Trends /example_path/output/google_anchorbanks/google_anchorbank_geo=US_timeframe=2019-01-01 2020-12-31.tsv\n",
            "New query 'Housing + Evictions + Rental Assistance'\n",
            "New query calibrated!\n",
            "Using /content/drive/MyDrive/[New]Data Extraction: Google Trends /example_path/output/google_anchorbanks/google_anchorbank_geo=US_timeframe=2019-01-01 2020-12-31.tsv\n",
            "New query 'Income Support + Income Assistance'\n",
            "New query calibrated!\n",
            "Using /content/drive/MyDrive/[New]Data Extraction: Google Trends /example_path/output/google_anchorbanks/google_anchorbank_geo=US_timeframe=2019-01-01 2020-12-31.tsv\n",
            "New query 'Mental Health + Suicide Prevention'\n",
            "New query calibrated!\n",
            "Using /content/drive/MyDrive/[New]Data Extraction: Google Trends /example_path/output/google_anchorbanks/google_anchorbank_geo=US_timeframe=2019-01-01 2020-12-31.tsv\n",
            "New query 'Utility Assistance'\n",
            "New query calibrated!\n",
            "Using /content/drive/MyDrive/[New]Data Extraction: Google Trends /example_path/output/google_anchorbanks/google_anchorbank_geo=US_timeframe=2019-01-01 2020-12-31.tsv\n",
            "New query 'Internet Access + Free Wifi'\n",
            "New query calibrated!\n",
            "Using /content/drive/MyDrive/[New]Data Extraction: Google Trends /example_path/output/google_anchorbanks/google_anchorbank_geo=US_timeframe=2019-01-01 2020-12-31.tsv\n",
            "New query 'Domestic Violence'\n",
            "New query calibrated!\n",
            "Using /content/drive/MyDrive/[New]Data Extraction: Google Trends /example_path/output/google_anchorbanks/google_anchorbank_geo=US_timeframe=2019-01-01 2020-12-31.tsv\n",
            "New query 'Transportation'\n",
            "New query calibrated!\n",
            "Using /content/drive/MyDrive/[New]Data Extraction: Google Trends /example_path/output/google_anchorbanks/google_anchorbank_geo=US_timeframe=2019-01-01 2020-12-31.tsv\n",
            "New query 'Volunteers + Donations'\n",
            "New query calibrated!\n"
          ],
          "name": "stdout"
        }
      ]
    },
    {
      "cell_type": "code",
      "metadata": {
        "id": "5Y7gI-zTHNA9"
      },
      "source": [
        "## (1-4) connect and write the dataframe to Google Sheet\n",
        "scope = [\n",
        "'https://spreadsheets.google.com/feeds'\n",
        "]\n",
        "json_file_name = '/content/drive/MyDrive/[New]Data Extraction: Google Trends /neighborhoodnexus-c971089d3b1a.json'\n",
        "creds = ServiceAccountCredentials.from_json_keyfile_name(json_file_name, scope)\n",
        "client = gspread.authorize(creds)\n",
        "\n",
        "## open by url\n",
        "spreadsheet_url = 'https://docs.google.com/spreadsheets/d/1ESnKgq0iUjgwR0EVcM2fAFi9KZoWXSVf9xyiOFgQH8I/'\n",
        "sheet = client.open_by_url(spreadsheet_url)\n",
        "worksheet = sheet.worksheet('Sheet1')\n",
        "\n",
        "## update google sheet\n",
        "existing = get_as_dataframe(worksheet)\n",
        "existing = existing.dropna(how=\"all\")\n",
        "existing = existing.iloc[:, 0:4]\n",
        "updates = existing.append(update_df, ignore_index= True)\n",
        "set_with_dataframe(worksheet, updates)"
      ],
      "execution_count": null,
      "outputs": []
    },
    {
      "cell_type": "markdown",
      "metadata": {
        "id": "vjqU_QqoTpnR"
      },
      "source": [
        "# Update the Data Frame"
      ]
    },
    {
      "cell_type": "code",
      "metadata": {
        "colab": {
          "base_uri": "https://localhost:8080/"
        },
        "id": "4fYlFiy0HX8x",
        "outputId": "6fc7c35b-b3a4-4ed6-fec8-fae095a2b3e6"
      },
      "source": [
        "## ---------------------------------------------------------------\n",
        "## (2) Extracting data for *UPDATE*\n",
        "##     >> you need to run these steps of (2) EVERY MONTH \n",
        "##          to update the historical trends data\n",
        "## ---------------------------------------------------------------\n",
        "## (2-1) create own anchor bank for extracting data\n",
        "##       from 2021-LASTMONTH-01 to 2020-CURRENTMONTH-01 in the US\n",
        "##       >> it returns 'google_anchorbank_geo=US_timeframe=2021-LASTMONTH-01 2021-CURRENTMONTH-01.tsv\n",
        "t.set_options(pytrends_config={\"geo\": \"US\", \"timeframe\": \"2021-03-01 2021-04-01\"})\n",
        "t.create_anchorbank()"
      ],
      "execution_count": null,
      "outputs": [
        {
          "output_type": "stream",
          "text": [
            "Start AnchorBank init for region US in timeframe 2021-03-01 2021-04-01...\n"
          ],
          "name": "stdout"
        },
        {
          "output_type": "stream",
          "text": [
            "\r  0%|          | 0/568 [00:00<?, ?it/s]"
          ],
          "name": "stderr"
        },
        {
          "output_type": "stream",
          "text": [
            "Sampling keywords...\n"
          ],
          "name": "stdout"
        },
        {
          "output_type": "stream",
          "text": [
            "  6%|▋         | 36/568 [00:47<10:42,  1.21s/it]"
          ],
          "name": "stderr"
        },
        {
          "output_type": "stream",
          "text": [
            "\n",
            "Bad keyword '/m/07bgp', because The request failed: Google returned a response with code 400.\n"
          ],
          "name": "stdout"
        },
        {
          "output_type": "stream",
          "text": [
            " 10%|▉         | 55/568 [01:11<10:25,  1.22s/it]"
          ],
          "name": "stderr"
        },
        {
          "output_type": "stream",
          "text": [
            "\n",
            "Bad keyword '/m/0fjfh', because The request failed: Google returned a response with code 400.\n"
          ],
          "name": "stdout"
        },
        {
          "output_type": "stream",
          "text": [
            " 10%|█         | 59/568 [01:16<10:16,  1.21s/it]"
          ],
          "name": "stderr"
        },
        {
          "output_type": "stream",
          "text": [
            "\n",
            "Bad keyword '/m/013v0m', because The request failed: Google returned a response with code 400.\n"
          ],
          "name": "stdout"
        },
        {
          "output_type": "stream",
          "text": [
            " 13%|█▎        | 74/568 [01:35<09:51,  1.20s/it]"
          ],
          "name": "stderr"
        },
        {
          "output_type": "stream",
          "text": [
            "\n",
            "Bad keyword '/m/02nm6c', because The request failed: Google returned a response with code 400.\n"
          ],
          "name": "stdout"
        },
        {
          "output_type": "stream",
          "text": [
            " 14%|█▎        | 77/568 [01:38<09:36,  1.17s/it]"
          ],
          "name": "stderr"
        },
        {
          "output_type": "stream",
          "text": [
            "\n",
            "Bad keyword '/m/084cz', because The request failed: Google returned a response with code 400.\n"
          ],
          "name": "stdout"
        },
        {
          "output_type": "stream",
          "text": [
            " 26%|██▋       | 150/568 [03:11<08:16,  1.19s/it]"
          ],
          "name": "stderr"
        },
        {
          "output_type": "stream",
          "text": [
            "\n",
            "Bad keyword '/m/0k0mp', because The request failed: Google returned a response with code 400.\n"
          ],
          "name": "stdout"
        },
        {
          "output_type": "stream",
          "text": [
            " 27%|██▋       | 152/568 [03:13<07:57,  1.15s/it]"
          ],
          "name": "stderr"
        },
        {
          "output_type": "stream",
          "text": [
            "\n",
            "Bad keyword '/m/01bp2v', because The request failed: Google returned a response with code 400.\n"
          ],
          "name": "stdout"
        },
        {
          "output_type": "stream",
          "text": [
            " 44%|████▍     | 252/568 [05:20<06:13,  1.18s/it]"
          ],
          "name": "stderr"
        },
        {
          "output_type": "stream",
          "text": [
            "\n",
            "Bad keyword '/m/06n9fv', because The request failed: Google returned a response with code 400.\n"
          ],
          "name": "stdout"
        },
        {
          "output_type": "stream",
          "text": [
            " 45%|████▌     | 257/568 [05:26<06:13,  1.20s/it]"
          ],
          "name": "stderr"
        },
        {
          "output_type": "stream",
          "text": [
            "\n",
            "Bad keyword '/m/04qgp', because The request failed: Google returned a response with code 400.\n"
          ],
          "name": "stdout"
        },
        {
          "output_type": "stream",
          "text": [
            " 54%|█████▍    | 306/568 [06:29<05:18,  1.21s/it]"
          ],
          "name": "stderr"
        },
        {
          "output_type": "stream",
          "text": [
            "\n",
            "Bad keyword '/m/04fzqn3', because The request failed: Google returned a response with code 400.\n"
          ],
          "name": "stdout"
        },
        {
          "output_type": "stream",
          "text": [
            " 57%|█████▋    | 325/568 [06:53<04:56,  1.22s/it]"
          ],
          "name": "stderr"
        },
        {
          "output_type": "stream",
          "text": [
            "\n",
            "Bad keyword '/m/0dfxdrn', because The request failed: Google returned a response with code 400.\n"
          ],
          "name": "stdout"
        },
        {
          "output_type": "stream",
          "text": [
            " 61%|██████    | 345/568 [07:18<04:24,  1.18s/it]"
          ],
          "name": "stderr"
        },
        {
          "output_type": "stream",
          "text": [
            "\n",
            "Bad keyword '/m/05hxz3p', because The request failed: Google returned a response with code 400.\n"
          ],
          "name": "stdout"
        },
        {
          "output_type": "stream",
          "text": [
            " 61%|██████    | 347/568 [07:20<04:13,  1.15s/it]"
          ],
          "name": "stderr"
        },
        {
          "output_type": "stream",
          "text": [
            "\n",
            "Bad keyword '/m/09nn_9', because The request failed: Google returned a response with code 400.\n"
          ],
          "name": "stdout"
        },
        {
          "output_type": "stream",
          "text": [
            " 64%|██████▍   | 365/568 [07:43<04:02,  1.19s/it]"
          ],
          "name": "stderr"
        },
        {
          "output_type": "stream",
          "text": [
            "\n",
            "Bad keyword '/m/05n1l9l', because The request failed: Google returned a response with code 400.\n"
          ],
          "name": "stdout"
        },
        {
          "output_type": "stream",
          "text": [
            " 70%|██████▉   | 397/568 [08:23<03:22,  1.19s/it]"
          ],
          "name": "stderr"
        },
        {
          "output_type": "stream",
          "text": [
            "\n",
            "Bad keyword '/m/02q64zt', because The request failed: Google returned a response with code 400.\n"
          ],
          "name": "stdout"
        },
        {
          "output_type": "stream",
          "text": [
            " 71%|███████▏  | 406/568 [08:34<03:11,  1.19s/it]"
          ],
          "name": "stderr"
        },
        {
          "output_type": "stream",
          "text": [
            "\n",
            "Bad keyword '/m/04rc3w', because The request failed: Google returned a response with code 400.\n"
          ],
          "name": "stdout"
        },
        {
          "output_type": "stream",
          "text": [
            " 73%|███████▎  | 412/568 [08:41<03:04,  1.18s/it]"
          ],
          "name": "stderr"
        },
        {
          "output_type": "stream",
          "text": [
            "\n",
            "Bad keyword '/m/05lv45q', because The request failed: Google returned a response with code 400.\n"
          ],
          "name": "stdout"
        },
        {
          "output_type": "stream",
          "text": [
            " 75%|███████▌  | 427/568 [09:00<02:46,  1.18s/it]"
          ],
          "name": "stderr"
        },
        {
          "output_type": "stream",
          "text": [
            "\n",
            "Bad keyword '/m/09j5n2', because The request failed: Google returned a response with code 400.\n"
          ],
          "name": "stdout"
        },
        {
          "output_type": "stream",
          "text": [
            " 79%|███████▊  | 447/568 [09:25<02:24,  1.19s/it]"
          ],
          "name": "stderr"
        },
        {
          "output_type": "stream",
          "text": [
            "\n",
            "Bad keyword '/m/0gl3_vx', because The request failed: Google returned a response with code 400.\n"
          ],
          "name": "stdout"
        },
        {
          "output_type": "stream",
          "text": [
            " 80%|████████  | 456/568 [09:36<02:12,  1.18s/it]"
          ],
          "name": "stderr"
        },
        {
          "output_type": "stream",
          "text": [
            "\n",
            "Bad keyword '/m/06b_y2', because The request failed: Google returned a response with code 400.\n"
          ],
          "name": "stdout"
        },
        {
          "output_type": "stream",
          "text": [
            " 83%|████████▎ | 473/568 [09:57<01:53,  1.20s/it]"
          ],
          "name": "stderr"
        },
        {
          "output_type": "stream",
          "text": [
            "\n",
            "Bad keyword '/m/04y5kpr', because The request failed: Google returned a response with code 400.\n"
          ],
          "name": "stdout"
        },
        {
          "output_type": "stream",
          "text": [
            " 86%|████████▋ | 490/568 [10:18<01:33,  1.20s/it]"
          ],
          "name": "stderr"
        },
        {
          "output_type": "stream",
          "text": [
            "\n",
            "Bad keyword '/m/05n4pk1', because The request failed: Google returned a response with code 400.\n"
          ],
          "name": "stdout"
        },
        {
          "output_type": "stream",
          "text": [
            " 89%|████████▊ | 503/568 [10:34<01:17,  1.19s/it]"
          ],
          "name": "stderr"
        },
        {
          "output_type": "stream",
          "text": [
            "\n",
            "Bad keyword '/m/02pxh01', because The request failed: Google returned a response with code 400.\n"
          ],
          "name": "stdout"
        },
        {
          "output_type": "stream",
          "text": [
            "\r 89%|████████▊ | 504/568 [10:35<01:13,  1.14s/it]"
          ],
          "name": "stderr"
        },
        {
          "output_type": "stream",
          "text": [
            "\n",
            "Bad keyword '/m/04bdjb', because The request failed: Google returned a response with code 400.\n"
          ],
          "name": "stdout"
        },
        {
          "output_type": "stream",
          "text": [
            " 89%|████████▉ | 508/568 [10:40<01:09,  1.16s/it]"
          ],
          "name": "stderr"
        },
        {
          "output_type": "stream",
          "text": [
            "\n",
            "Bad keyword '/m/03ct2_8', because The request failed: Google returned a response with code 400.\n"
          ],
          "name": "stdout"
        },
        {
          "output_type": "stream",
          "text": [
            "\r 90%|████████▉ | 509/568 [10:41<01:06,  1.12s/it]"
          ],
          "name": "stderr"
        },
        {
          "output_type": "stream",
          "text": [
            "\n",
            "Bad keyword '/m/083tpm', because The request failed: Google returned a response with code 400.\n"
          ],
          "name": "stdout"
        },
        {
          "output_type": "stream",
          "text": [
            " 91%|█████████ | 518/568 [10:52<00:59,  1.18s/it]"
          ],
          "name": "stderr"
        },
        {
          "output_type": "stream",
          "text": [
            "\n",
            "Bad keyword '/m/05n9bv7', because The request failed: Google returned a response with code 400.\n"
          ],
          "name": "stdout"
        },
        {
          "output_type": "stream",
          "text": [
            " 93%|█████████▎| 527/568 [11:03<00:48,  1.19s/it]"
          ],
          "name": "stderr"
        },
        {
          "output_type": "stream",
          "text": [
            "\n",
            "Bad keyword '/m/05n7n62', because The request failed: Google returned a response with code 400.\n"
          ],
          "name": "stdout"
        },
        {
          "output_type": "stream",
          "text": [
            " 93%|█████████▎| 531/568 [11:08<00:43,  1.18s/it]"
          ],
          "name": "stderr"
        },
        {
          "output_type": "stream",
          "text": [
            "\n",
            "Bad keyword '/m/05n6lws', because The request failed: Google returned a response with code 400.\n"
          ],
          "name": "stdout"
        },
        {
          "output_type": "stream",
          "text": [
            " 95%|█████████▍| 537/568 [11:16<00:36,  1.17s/it]"
          ],
          "name": "stderr"
        },
        {
          "output_type": "stream",
          "text": [
            "\n",
            "Bad keyword '/m/07b2rg', because The request failed: Google returned a response with code 400.\n"
          ],
          "name": "stdout"
        },
        {
          "output_type": "stream",
          "text": [
            " 95%|█████████▌| 541/568 [11:20<00:31,  1.17s/it]"
          ],
          "name": "stderr"
        },
        {
          "output_type": "stream",
          "text": [
            "\n",
            "Bad keyword '/m/0bq4bp', because The request failed: Google returned a response with code 400.\n"
          ],
          "name": "stdout"
        },
        {
          "output_type": "stream",
          "text": [
            " 96%|█████████▋| 548/568 [11:29<00:23,  1.20s/it]"
          ],
          "name": "stderr"
        },
        {
          "output_type": "stream",
          "text": [
            "\n",
            "Bad keyword '/m/0dfxdcv', because The request failed: Google returned a response with code 400.\n"
          ],
          "name": "stdout"
        },
        {
          "output_type": "stream",
          "text": [
            " 97%|█████████▋| 550/568 [11:31<00:21,  1.18s/it]"
          ],
          "name": "stderr"
        },
        {
          "output_type": "stream",
          "text": [
            "\n",
            "Bad keyword '/m/04f182w', because The request failed: Google returned a response with code 400.\n"
          ],
          "name": "stdout"
        },
        {
          "output_type": "stream",
          "text": [
            "\r 97%|█████████▋| 551/568 [11:32<00:19,  1.14s/it]"
          ],
          "name": "stderr"
        },
        {
          "output_type": "stream",
          "text": [
            "\n",
            "Bad keyword '/m/05n2v4t', because The request failed: Google returned a response with code 400.\n"
          ],
          "name": "stdout"
        },
        {
          "output_type": "stream",
          "text": [
            " 97%|█████████▋| 553/568 [11:35<00:17,  1.14s/it]"
          ],
          "name": "stderr"
        },
        {
          "output_type": "stream",
          "text": [
            "\n",
            "Bad keyword '/m/05v67qk', because The request failed: Google returned a response with code 400.\n"
          ],
          "name": "stdout"
        },
        {
          "output_type": "stream",
          "text": [
            " 98%|█████████▊| 557/568 [11:40<00:13,  1.20s/it]"
          ],
          "name": "stderr"
        },
        {
          "output_type": "stream",
          "text": [
            "\n",
            "Bad keyword '/m/05n8041', because The request failed: Google returned a response with code 400.\n"
          ],
          "name": "stdout"
        },
        {
          "output_type": "stream",
          "text": [
            " 99%|█████████▉| 561/568 [11:45<00:08,  1.19s/it]"
          ],
          "name": "stderr"
        },
        {
          "output_type": "stream",
          "text": [
            "\n",
            "Bad keyword '/m/0c0ff8', because The request failed: Google returned a response with code 400.\n"
          ],
          "name": "stdout"
        },
        {
          "output_type": "stream",
          "text": [
            " 99%|█████████▉| 564/568 [11:48<00:04,  1.16s/it]"
          ],
          "name": "stderr"
        },
        {
          "output_type": "stream",
          "text": [
            "\n",
            "Bad keyword '/m/0c_lmc1', because The request failed: Google returned a response with code 400.\n"
          ],
          "name": "stdout"
        },
        {
          "output_type": "stream",
          "text": [
            "\r 99%|█████████▉| 565/568 [11:49<00:03,  1.12s/it]"
          ],
          "name": "stderr"
        },
        {
          "output_type": "stream",
          "text": [
            "\n",
            "Bad keyword '/m/05n35c8', because The request failed: Google returned a response with code 400.\n"
          ],
          "name": "stdout"
        },
        {
          "output_type": "stream",
          "text": [
            "100%|██████████| 568/568 [11:53<00:00,  1.26s/it]\n",
            "  0%|          | 0/487 [00:00<?, ?it/s]"
          ],
          "name": "stderr"
        },
        {
          "output_type": "stream",
          "text": [
            "Querying google...\n"
          ],
          "name": "stdout"
        },
        {
          "output_type": "stream",
          "text": [
            "100%|██████████| 487/487 [06:00<00:00,  1.35it/s]\n"
          ],
          "name": "stderr"
        },
        {
          "output_type": "stream",
          "text": [
            "Removing bad queries...\n"
          ],
          "name": "stdout"
        },
        {
          "output_type": "stream",
          "text": [
            "\r  0%|          | 0/6 [00:00<?, ?it/s]"
          ],
          "name": "stderr"
        },
        {
          "output_type": "stream",
          "text": [
            "Total bad: 40\n"
          ],
          "name": "stdout"
        },
        {
          "output_type": "stream",
          "text": [
            "100%|██████████| 6/6 [00:04<00:00,  1.35it/s]\n",
            "100%|██████████| 4/4 [00:02<00:00,  1.36it/s]\n",
            "100%|██████████| 8/8 [00:05<00:00,  1.36it/s]\n",
            "100%|██████████| 4/4 [00:02<00:00,  1.35it/s]\n",
            "100%|██████████| 4/4 [00:02<00:00,  1.35it/s]\n",
            "100%|██████████| 4/4 [00:02<00:00,  1.36it/s]\n",
            "100%|██████████| 4/4 [00:02<00:00,  1.34it/s]\n",
            "100%|██████████| 4/4 [00:03<00:00,  1.32it/s]\n",
            "100%|██████████| 4/4 [00:02<00:00,  1.37it/s]\n",
            "100%|██████████| 4/4 [00:03<00:00,  1.25it/s]\n",
            "100%|██████████| 4/4 [00:02<00:00,  1.36it/s]\n",
            "100%|██████████| 4/4 [00:02<00:00,  1.35it/s]\n",
            "100%|██████████| 7/7 [00:05<00:00,  1.36it/s]\n",
            "100%|██████████| 8/8 [00:05<00:00,  1.36it/s]\n",
            "100%|██████████| 4/4 [00:02<00:00,  1.36it/s]\n",
            "100%|██████████| 4/4 [00:02<00:00,  1.38it/s]\n",
            "100%|██████████| 4/4 [00:02<00:00,  1.35it/s]\n",
            "100%|██████████| 4/4 [00:02<00:00,  1.34it/s]\n",
            "100%|██████████| 7/7 [00:05<00:00,  1.36it/s]\n",
            "100%|██████████| 4/4 [00:02<00:00,  1.37it/s]\n",
            "100%|██████████| 4/4 [00:02<00:00,  1.37it/s]\n"
          ],
          "name": "stderr"
        },
        {
          "output_type": "stream",
          "text": [
            "Total bad: 0\n",
            "Diagnostics done!\n",
            "A total of 40 bad keywords removed.\n",
            "Saving google results as '/content/drive/MyDrive/[New]Data Extraction: Google Trends /example_path/data/internal/google_results/google_results_geo=US_timeframe=2021-03-01 2021-04-01.pkl'...\n",
            "Total queries (groups of 5 keywords): 446\n"
          ],
          "name": "stdout"
        },
        {
          "output_type": "stream",
          "text": [
            "\r  0%|          | 0/448 [00:00<?, ?it/s]"
          ],
          "name": "stderr"
        },
        {
          "output_type": "stream",
          "text": [
            "Finding paths...\n"
          ],
          "name": "stdout"
        },
        {
          "output_type": "stream",
          "text": [
            "100%|██████████| 448/448 [02:29<00:00,  3.00it/s]\n"
          ],
          "name": "stderr"
        },
        {
          "output_type": "stream",
          "text": [
            "Paths done!\n",
            "Err: 4.440892098500626e-15\n"
          ],
          "name": "stdout"
        },
        {
          "output_type": "stream",
          "text": [
            "\r  0%|          | 0/10 [00:00<?, ?it/s]"
          ],
          "name": "stderr"
        },
        {
          "output_type": "stream",
          "text": [
            "Querying pairs...\n"
          ],
          "name": "stdout"
        },
        {
          "output_type": "stream",
          "text": [
            "100%|██████████| 10/10 [00:07<00:00,  1.39it/s]"
          ],
          "name": "stderr"
        },
        {
          "output_type": "stream",
          "text": [
            "Total range: 5.8547941452e-05\n",
            "Saving anchorbank as '/content/drive/MyDrive/[New]Data Extraction: Google Trends /example_path/output/google_anchorbanks/google_anchorbank_geo=US_timeframe=2021-03-01 2021-04-01.tsv'...\n",
            "AnchorBank init done.\n"
          ],
          "name": "stdout"
        },
        {
          "output_type": "stream",
          "text": [
            "\n"
          ],
          "name": "stderr"
        }
      ]
    },
    {
      "cell_type": "code",
      "metadata": {
        "colab": {
          "base_uri": "https://localhost:8080/"
        },
        "id": "GtNoWA_FR3MD",
        "outputId": "d669732e-e5f0-4c2c-ca27-1f7c8c91a2f6"
      },
      "source": [
        "## (2-2) activate anchor bank from 2019-01-01 to 2020-12-31 in the US\n",
        "t.set_active_gtab(\"google_anchorbank_geo=US_timeframe=2021-03-01 2021-04-01.tsv\")"
      ],
      "execution_count": null,
      "outputs": [
        {
          "output_type": "stream",
          "text": [
            "Active anchorbank changed to: google_anchorbank_geo=US_timeframe=2021-03-01 2021-04-01.tsv\n",
            "\n"
          ],
          "name": "stdout"
        }
      ]
    },
    {
      "cell_type": "code",
      "metadata": {
        "colab": {
          "base_uri": "https://localhost:8080/"
        },
        "id": "Of-h8zJw3kKK",
        "outputId": "da296f6b-d17b-490a-c74d-d3e6a4fe9c4c"
      },
      "source": [
        "## (2-3) extract data for 17 topics we selected\n",
        "update_df = pd.DataFrame([], columns = ['date', 'max_ratio', 'max_ratio_hi', 'max_ratio_lo','topic'])\n",
        "for key in topic_dic:\n",
        "\n",
        "    df = t.new_query(topic_dic[key])\n",
        "    df = df.reset_index()\n",
        "\n",
        "    topic = []\n",
        "    for l in range(0, len(df)):\n",
        "      topic.append(key)\n",
        "    \n",
        "    df['topic'] = topic\n",
        "    update_df = update_df.append(df, ignore_index= True)"
      ],
      "execution_count": null,
      "outputs": [
        {
          "output_type": "stream",
          "text": [
            "Using /content/drive/MyDrive/[New]Data Extraction: Google Trends /example_path/output/google_anchorbanks/google_anchorbank_geo=US_timeframe=2021-03-01 2021-04-01.tsv\n",
            "New query 'Covid-19 + Pandemic + Quarantine + Covid + Coronavirus'\n",
            "New query calibrated!\n",
            "Using /content/drive/MyDrive/[New]Data Extraction: Google Trends /example_path/output/google_anchorbanks/google_anchorbank_geo=US_timeframe=2021-03-01 2021-04-01.tsv\n",
            "New query 'Foster care + Adoption + Family Support'\n",
            "New query calibrated!\n",
            "Using /content/drive/MyDrive/[New]Data Extraction: Google Trends /example_path/output/google_anchorbanks/google_anchorbank_geo=US_timeframe=2021-03-01 2021-04-01.tsv\n",
            "New query 'Racial Inequality + Racism + Discrimination'\n",
            "New query calibrated!\n",
            "Using /content/drive/MyDrive/[New]Data Extraction: Google Trends /example_path/output/google_anchorbanks/google_anchorbank_geo=US_timeframe=2021-03-01 2021-04-01.tsv\n",
            "New query 'Disabilities'\n",
            "New query calibrated!\n",
            "Using /content/drive/MyDrive/[New]Data Extraction: Google Trends /example_path/output/google_anchorbanks/google_anchorbank_geo=US_timeframe=2021-03-01 2021-04-01.tsv\n",
            "New query 'Disaster Services + Homeless Shelter'\n",
            "New query calibrated!\n",
            "Using /content/drive/MyDrive/[New]Data Extraction: Google Trends /example_path/output/google_anchorbanks/google_anchorbank_geo=US_timeframe=2021-03-01 2021-04-01.tsv\n",
            "New query 'Education'\n",
            "New query calibrated!\n",
            "Using /content/drive/MyDrive/[New]Data Extraction: Google Trends /example_path/output/google_anchorbanks/google_anchorbank_geo=US_timeframe=2021-03-01 2021-04-01.tsv\n",
            "New query 'Employment + Jobs + Unemployment'\n",
            "New query calibrated!\n",
            "Using /content/drive/MyDrive/[New]Data Extraction: Google Trends /example_path/output/google_anchorbanks/google_anchorbank_geo=US_timeframe=2021-03-01 2021-04-01.tsv\n",
            "New query 'Free Food + Food Banks + Food Assistance'\n",
            "New query calibrated!\n",
            "Using /content/drive/MyDrive/[New]Data Extraction: Google Trends /example_path/output/google_anchorbanks/google_anchorbank_geo=US_timeframe=2021-03-01 2021-04-01.tsv\n",
            "New query 'Health Care + Medicaid'\n",
            "New query calibrated!\n",
            "Using /content/drive/MyDrive/[New]Data Extraction: Google Trends /example_path/output/google_anchorbanks/google_anchorbank_geo=US_timeframe=2021-03-01 2021-04-01.tsv\n",
            "New query 'Housing + Evictions + Rental Assistance'\n",
            "New query calibrated!\n",
            "Using /content/drive/MyDrive/[New]Data Extraction: Google Trends /example_path/output/google_anchorbanks/google_anchorbank_geo=US_timeframe=2021-03-01 2021-04-01.tsv\n",
            "New query 'Income Support + Income Assistance'\n",
            "New query calibrated!\n",
            "Using /content/drive/MyDrive/[New]Data Extraction: Google Trends /example_path/output/google_anchorbanks/google_anchorbank_geo=US_timeframe=2021-03-01 2021-04-01.tsv\n",
            "New query 'Mental Health + Suicide Prevention'\n",
            "New query calibrated!\n",
            "Using /content/drive/MyDrive/[New]Data Extraction: Google Trends /example_path/output/google_anchorbanks/google_anchorbank_geo=US_timeframe=2021-03-01 2021-04-01.tsv\n",
            "New query 'Utility Assistance'\n",
            "New query calibrated!\n",
            "Using /content/drive/MyDrive/[New]Data Extraction: Google Trends /example_path/output/google_anchorbanks/google_anchorbank_geo=US_timeframe=2021-03-01 2021-04-01.tsv\n",
            "New query 'Internet Access + Free Wifi'\n",
            "New query calibrated!\n",
            "Using /content/drive/MyDrive/[New]Data Extraction: Google Trends /example_path/output/google_anchorbanks/google_anchorbank_geo=US_timeframe=2021-03-01 2021-04-01.tsv\n",
            "New query 'Domestic Violence'\n",
            "New query calibrated!\n",
            "Using /content/drive/MyDrive/[New]Data Extraction: Google Trends /example_path/output/google_anchorbanks/google_anchorbank_geo=US_timeframe=2021-03-01 2021-04-01.tsv\n",
            "New query 'Transportation'\n",
            "New query calibrated!\n",
            "Using /content/drive/MyDrive/[New]Data Extraction: Google Trends /example_path/output/google_anchorbanks/google_anchorbank_geo=US_timeframe=2021-03-01 2021-04-01.tsv\n",
            "New query 'Volunteers + Donations'\n",
            "New query calibrated!\n"
          ],
          "name": "stdout"
        }
      ]
    },
    {
      "cell_type": "code",
      "metadata": {
        "id": "Aein-tzB4LHC"
      },
      "source": [
        "## (2-4) connect and write the dataframe to Google Sheet\n",
        "scope = [\n",
        "'https://spreadsheets.google.com/feeds'\n",
        "]\n",
        "json_file_name = '/directory_stored_json_file/***.json' ## refers to the README to download your own JSON file\n",
        "creds = ServiceAccountCredentials.from_json_keyfile_name(json_file_name, scope)\n",
        "client = gspread.authorize(creds)\n",
        "\n",
        "## open by url\n",
        "spreadsheet_url = 'https://docs.google.com/spreadsheets/d/1ESnKgq0iUjgwR0EVcM2fAFi9KZoWXSVf9xyiOFgQH8I/' \n",
        "sheet = client.open_by_url(spreadsheet_url)\n",
        "worksheet = sheet.worksheet('Sheet1')\n",
        "\n",
        "## update google sheet\n",
        "existing = get_as_dataframe(worksheet)\n",
        "existing = existing.dropna(how=\"all\")\n",
        "existing = existing.iloc[:, 0:5]\n",
        "updates = existing.append(update_df, ignore_index= True)\n",
        "set_with_dataframe(worksheet, updates)"
      ],
      "execution_count": null,
      "outputs": []
    }
  ]
}