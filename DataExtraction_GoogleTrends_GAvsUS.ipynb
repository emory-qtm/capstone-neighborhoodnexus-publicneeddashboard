{
  "nbformat": 4,
  "nbformat_minor": 0,
  "metadata": {
    "colab": {
      "name": "Copy of GAvsUS_update.ipynb",
      "provenance": [],
      "collapsed_sections": [],
      "toc_visible": true
    },
    "kernelspec": {
      "display_name": "Python 3",
      "name": "python3"
    }
  },
  "cells": [
    {
      "cell_type": "code",
      "metadata": {
        "colab": {
          "base_uri": "https://localhost:8080/"
        },
        "id": "64cLIQJ2FlZQ",
        "outputId": "bf38d0c9-ca2b-450d-b387-c9ca6d68c8fd"
      },
      "source": [
        "!pip install pytrends\n",
        "from pytrends.request import TrendReq\n",
        "import pandas as pd\n",
        "from datetime import date\n",
        "import gspread\n",
        "from oauth2client.service_account import ServiceAccountCredentials\n",
        "from gspread_dataframe import get_as_dataframe, set_with_dataframe"
      ],
      "execution_count": null,
      "outputs": [
        {
          "output_type": "stream",
          "text": [
            "Collecting pytrends\n",
            "  Downloading https://files.pythonhosted.org/packages/96/53/a4a74c33bfdbe1740183e00769377352072e64182913562daf9f5e4f1938/pytrends-4.7.3-py3-none-any.whl\n",
            "Requirement already satisfied: lxml in /usr/local/lib/python3.7/dist-packages (from pytrends) (4.2.6)\n",
            "Requirement already satisfied: requests in /usr/local/lib/python3.7/dist-packages (from pytrends) (2.23.0)\n",
            "Requirement already satisfied: pandas>=0.25 in /usr/local/lib/python3.7/dist-packages (from pytrends) (1.1.5)\n",
            "Requirement already satisfied: urllib3!=1.25.0,!=1.25.1,<1.26,>=1.21.1 in /usr/local/lib/python3.7/dist-packages (from requests->pytrends) (1.24.3)\n",
            "Requirement already satisfied: idna<3,>=2.5 in /usr/local/lib/python3.7/dist-packages (from requests->pytrends) (2.10)\n",
            "Requirement already satisfied: certifi>=2017.4.17 in /usr/local/lib/python3.7/dist-packages (from requests->pytrends) (2020.12.5)\n",
            "Requirement already satisfied: chardet<4,>=3.0.2 in /usr/local/lib/python3.7/dist-packages (from requests->pytrends) (3.0.4)\n",
            "Requirement already satisfied: numpy>=1.15.4 in /usr/local/lib/python3.7/dist-packages (from pandas>=0.25->pytrends) (1.19.5)\n",
            "Requirement already satisfied: python-dateutil>=2.7.3 in /usr/local/lib/python3.7/dist-packages (from pandas>=0.25->pytrends) (2.8.1)\n",
            "Requirement already satisfied: pytz>=2017.2 in /usr/local/lib/python3.7/dist-packages (from pandas>=0.25->pytrends) (2018.9)\n",
            "Requirement already satisfied: six>=1.5 in /usr/local/lib/python3.7/dist-packages (from python-dateutil>=2.7.3->pandas>=0.25->pytrends) (1.15.0)\n",
            "Installing collected packages: pytrends\n",
            "Successfully installed pytrends-4.7.3\n"
          ],
          "name": "stdout"
        }
      ]
    },
    {
      "cell_type": "code",
      "metadata": {
        "id": "EhU9F4NcFqaU"
      },
      "source": [
        "## daily range\n",
        "## sample date range from 2020-02-01 to 2020-03-01\n",
        "date_range = pd.date_range(start=\"2020-12-01\", end='2021-01-01')"
      ],
      "execution_count": null,
      "outputs": []
    },
    {
      "cell_type": "code",
      "metadata": {
        "id": "WJdq6pxDGpPV"
      },
      "source": [
        "## import pytrends, final df format\n",
        "pytrends = TrendReq(hl='en-US', tz=360)\n",
        "final_df = pd.DataFrame([], columns = ['geoName', 'geoCode', 'topic', 'date'])"
      ],
      "execution_count": null,
      "outputs": []
    },
    {
      "cell_type": "code",
      "metadata": {
        "id": "LpKaT2oO5xty"
      },
      "source": [
        "## keywords\n",
        "## sample keywords = housing, unemployment\n",
        "kw_list = ['Covid-19 + Pandemic + Quarantine + Covid + Coronavirus']\n",
        "cat_list = ['Covid-19']"
      ],
      "execution_count": null,
      "outputs": []
    },
    {
      "cell_type": "code",
      "metadata": {
        "id": "0NCSWOyY59I_"
      },
      "source": [
        "idx = 0\n",
        "\n",
        "for i in kw_list:\n",
        "  ## temporary df format for each topic\n",
        "  new_df = pd.DataFrame([], columns = ['geoName', 'geoCode', i, 'date'])\n",
        "  \n",
        "  for j in range(0, len(date_range)-1):\n",
        "    tf = '' + date_range[j].strftime('%Y-%m-%d') + ' ' + date_range[j+1].strftime('%Y-%m-%d')\n",
        "    pytrends.build_payload([i], timeframe = tf, geo='US')\n",
        "    df = pytrends.interest_by_region(resolution='COUNTY', inc_low_vol=True, inc_geo_code=True)\n",
        "    df = df.reset_index()\n",
        "\n",
        "    date = []\n",
        "    for k in range(0, len(df)):\n",
        "      date.append(date_range[j].strftime('%Y-%m-%d'))\n",
        "        \n",
        "    df['date'] = date\n",
        "    new_df = new_df.append(df, ignore_index=True)\n",
        "  \n",
        "\n",
        "  new_df.rename(columns={i: 'value'}, inplace = True)\n",
        "\n",
        "  ## add topic column\n",
        "  cat = cat_list[idx]\n",
        "  idx += 1\n",
        "  topic = []\n",
        "  for l in range(0, len(new_df)):\n",
        "    topic.append(cat)\n",
        "  new_df['topic'] = topic\n",
        "  \n",
        "  final_df = final_df.append(new_df, ignore_index= True)"
      ],
      "execution_count": null,
      "outputs": []
    },
    {
      "cell_type": "code",
      "metadata": {
        "id": "XIJShYfB6JFr"
      },
      "source": [
        "## extract GA\n",
        "GA = final_df[final_df['geoCode']=='US-GA']\n",
        "\n",
        "## rename geoname of final_data to US\n",
        "final_df.geoName = 'US'\n",
        "final_df.geoCode = 'US'\n",
        "\n",
        "## merge two\n",
        "final_df = final_df.append(GA, ignore_index= True)"
      ],
      "execution_count": null,
      "outputs": []
    },
    {
      "cell_type": "code",
      "metadata": {
        "id": "Vjdlmmq7_dEl",
        "colab": {
          "base_uri": "https://localhost:8080/",
          "height": 419
        },
        "outputId": "4188c1c9-66a6-4c04-eb09-2e11e18ca6f6"
      },
      "source": [
        "final_df"
      ],
      "execution_count": null,
      "outputs": [
        {
          "output_type": "execute_result",
          "data": {
            "text/html": [
              "<div>\n",
              "<style scoped>\n",
              "    .dataframe tbody tr th:only-of-type {\n",
              "        vertical-align: middle;\n",
              "    }\n",
              "\n",
              "    .dataframe tbody tr th {\n",
              "        vertical-align: top;\n",
              "    }\n",
              "\n",
              "    .dataframe thead th {\n",
              "        text-align: right;\n",
              "    }\n",
              "</style>\n",
              "<table border=\"1\" class=\"dataframe\">\n",
              "  <thead>\n",
              "    <tr style=\"text-align: right;\">\n",
              "      <th></th>\n",
              "      <th>geoName</th>\n",
              "      <th>geoCode</th>\n",
              "      <th>topic</th>\n",
              "      <th>date</th>\n",
              "      <th>value</th>\n",
              "    </tr>\n",
              "  </thead>\n",
              "  <tbody>\n",
              "    <tr>\n",
              "      <th>0</th>\n",
              "      <td>US</td>\n",
              "      <td>US</td>\n",
              "      <td>Covid-19</td>\n",
              "      <td>2020-12-01</td>\n",
              "      <td>34</td>\n",
              "    </tr>\n",
              "    <tr>\n",
              "      <th>1</th>\n",
              "      <td>US</td>\n",
              "      <td>US</td>\n",
              "      <td>Covid-19</td>\n",
              "      <td>2020-12-01</td>\n",
              "      <td>73</td>\n",
              "    </tr>\n",
              "    <tr>\n",
              "      <th>2</th>\n",
              "      <td>US</td>\n",
              "      <td>US</td>\n",
              "      <td>Covid-19</td>\n",
              "      <td>2020-12-01</td>\n",
              "      <td>73</td>\n",
              "    </tr>\n",
              "    <tr>\n",
              "      <th>3</th>\n",
              "      <td>US</td>\n",
              "      <td>US</td>\n",
              "      <td>Covid-19</td>\n",
              "      <td>2020-12-01</td>\n",
              "      <td>46</td>\n",
              "    </tr>\n",
              "    <tr>\n",
              "      <th>4</th>\n",
              "      <td>US</td>\n",
              "      <td>US</td>\n",
              "      <td>Covid-19</td>\n",
              "      <td>2020-12-01</td>\n",
              "      <td>64</td>\n",
              "    </tr>\n",
              "    <tr>\n",
              "      <th>...</th>\n",
              "      <td>...</td>\n",
              "      <td>...</td>\n",
              "      <td>...</td>\n",
              "      <td>...</td>\n",
              "      <td>...</td>\n",
              "    </tr>\n",
              "    <tr>\n",
              "      <th>1607</th>\n",
              "      <td>Georgia</td>\n",
              "      <td>US-GA</td>\n",
              "      <td>Covid-19</td>\n",
              "      <td>2020-12-27</td>\n",
              "      <td>71</td>\n",
              "    </tr>\n",
              "    <tr>\n",
              "      <th>1608</th>\n",
              "      <td>Georgia</td>\n",
              "      <td>US-GA</td>\n",
              "      <td>Covid-19</td>\n",
              "      <td>2020-12-28</td>\n",
              "      <td>77</td>\n",
              "    </tr>\n",
              "    <tr>\n",
              "      <th>1609</th>\n",
              "      <td>Georgia</td>\n",
              "      <td>US-GA</td>\n",
              "      <td>Covid-19</td>\n",
              "      <td>2020-12-29</td>\n",
              "      <td>72</td>\n",
              "    </tr>\n",
              "    <tr>\n",
              "      <th>1610</th>\n",
              "      <td>Georgia</td>\n",
              "      <td>US-GA</td>\n",
              "      <td>Covid-19</td>\n",
              "      <td>2020-12-30</td>\n",
              "      <td>63</td>\n",
              "    </tr>\n",
              "    <tr>\n",
              "      <th>1611</th>\n",
              "      <td>Georgia</td>\n",
              "      <td>US-GA</td>\n",
              "      <td>Covid-19</td>\n",
              "      <td>2020-12-31</td>\n",
              "      <td>62</td>\n",
              "    </tr>\n",
              "  </tbody>\n",
              "</table>\n",
              "<p>1612 rows × 5 columns</p>\n",
              "</div>"
            ],
            "text/plain": [
              "      geoName geoCode     topic        date value\n",
              "0          US      US  Covid-19  2020-12-01    34\n",
              "1          US      US  Covid-19  2020-12-01    73\n",
              "2          US      US  Covid-19  2020-12-01    73\n",
              "3          US      US  Covid-19  2020-12-01    46\n",
              "4          US      US  Covid-19  2020-12-01    64\n",
              "...       ...     ...       ...         ...   ...\n",
              "1607  Georgia   US-GA  Covid-19  2020-12-27    71\n",
              "1608  Georgia   US-GA  Covid-19  2020-12-28    77\n",
              "1609  Georgia   US-GA  Covid-19  2020-12-29    72\n",
              "1610  Georgia   US-GA  Covid-19  2020-12-30    63\n",
              "1611  Georgia   US-GA  Covid-19  2020-12-31    62\n",
              "\n",
              "[1612 rows x 5 columns]"
            ]
          },
          "metadata": {
            "tags": []
          },
          "execution_count": 9
        }
      ]
    },
    {
      "cell_type": "code",
      "metadata": {
        "id": "WjMjf-I4-pXo"
      },
      "source": [
        "len(final_df['topic'].unique()) ## confirm that there are 17 topics"
      ],
      "execution_count": null,
      "outputs": []
    },
    {
      "cell_type": "code",
      "metadata": {
        "id": "noypuV5JJFUb"
      },
      "source": [
        "## connecting gspreads\n",
        "scope = [\n",
        "'https://spreadsheets.google.com/feeds'\n",
        "]\n",
        "json_file_name = '/directory_stored_json_file/***.json' ## refer to the README to download your own JSON file\n",
        "creds = ServiceAccountCredentials.from_json_keyfile_name(json_file_name, scope)\n",
        "client = gspread.authorize(creds)\n",
        "\n",
        "## open by url\n",
        "spreadsheet_url = 'https://docs.google.com/spreadsheets/d/1mOADAGBLW8m7s2ULWih0vRZtsLUn7VFzRMaLVnieFu8/' # go on link to view dataset\n",
        "sheet = client.open_by_url(spreadsheet_url)\n",
        "worksheet = sheet.worksheet('Sheet1')\n",
        "\n",
        "## get existing dataframe\n",
        "existing = get_as_dataframe(worksheet)\n",
        "existing = existing.dropna(how=\"all\")\n",
        "existing = existing.iloc[:, 0:5]"
      ],
      "execution_count": null,
      "outputs": []
    },
    {
      "cell_type": "code",
      "metadata": {
        "id": "FXTzdf01jpxn"
      },
      "source": [
        "## update existing dataframe\n",
        "update = existing.append(final_df, ignore_index= True)\n",
        "update"
      ],
      "execution_count": null,
      "outputs": []
    },
    {
      "cell_type": "code",
      "metadata": {
        "id": "LvZ9p28MkX5N"
      },
      "source": [
        "## update google sheet\n",
        "set_with_dataframe(worksheet, update)"
      ],
      "execution_count": null,
      "outputs": []
    }
  ]
}